{
 "cells": [
  {
   "cell_type": "markdown",
   "id": "d51cdb4d-a4b0-40da-8f39-d53f12cae77b",
   "metadata": {},
   "source": [
    "# Preprocessing for User Autoencoder\n",
    "\n",
    "**Description:**  \n",
    "This notebook takes the combined and cleaned beer reviews and brewery metadata from `final_beers_reviews_breweries.csv`, and constructs a binary user–beer interaction matrix by grouping each user’s reviews, thresholding their overall scores into “likes” (e.g. score ≥ 4 → 1, else 0), and pivoting so that each row is a user and each column is a beer.\n",
    "\n",
    "The resulting file, `user_beer_likes.csv`, contains one row per user and one column per beer, with entries of 1 indicating the user liked that beer and 0 otherwise—exactly the format needed to train the user autoencoder.\n",
    "\n",
    "---\n",
    "\n",
    "## Overview\n",
    "\n",
    "- **Data Source:**  \n",
    "  `final_beers_reviews_breweries.csv` – contains user reviews joined with beer and brewery information.\n"
   ]
  },
  {
   "cell_type": "code",
   "execution_count": 1,
   "id": "93455f0d-1b28-43ba-ad03-6b91374d1f4c",
   "metadata": {},
   "outputs": [
    {
     "name": "stdout",
     "output_type": "stream",
     "text": [
      "\f",
      "inal Data Sample:\n",
      "              name state country                    style availability   abv  \\\n",
      "0  Older Viscosity    CA      US  American Imperial Stout     Rotating  12.0   \n",
      "1  Older Viscosity    CA      US  American Imperial Stout     Rotating  12.0   \n",
      "2  Older Viscosity    CA      US  American Imperial Stout     Rotating  12.0   \n",
      "3  Older Viscosity    CA      US  American Imperial Stout     Rotating  12.0   \n",
      "4  Older Viscosity    CA      US  American Imperial Stout     Rotating  12.0   \n",
      "\n",
      "                                               notes  beer_id     username  \\\n",
      "0  Imperial Stout aged for 12 months in new bourb...    34094        Sazz9   \n",
      "1  Imperial Stout aged for 12 months in new bourb...    34094  Amguerra305   \n",
      "2  Imperial Stout aged for 12 months in new bourb...    34094      TheGent   \n",
      "3  Imperial Stout aged for 12 months in new bourb...    34094         bobv   \n",
      "4  Imperial Stout aged for 12 months in new bourb...    34094      Tony210   \n",
      "\n",
      "         date  ...  look  smell  taste  feel  overall  score  name_brewery  \\\n",
      "0  2015-09-02  ...  4.50   4.50   4.25  4.50     4.25   4.35  Port Brewing   \n",
      "1  2017-06-21  ...  4.75   4.00   4.50  4.25     4.50   4.37  Port Brewing   \n",
      "2  2018-04-07  ...  4.00   4.50   4.50  3.75     4.50   4.40  Port Brewing   \n",
      "3  2018-04-03  ...  3.75   4.50   4.50  3.75     4.25   4.33  Port Brewing   \n",
      "4  2018-01-29  ...  4.50   4.25   4.50  4.50     4.50   4.44  Port Brewing   \n",
      "\n",
      "         city                                      notes_brewery  \\\n",
      "0  San Marcos  Owned by Port Brewing Company. Not affiliated ...   \n",
      "1  San Marcos  Owned by Port Brewing Company. Not affiliated ...   \n",
      "2  San Marcos  Owned by Port Brewing Company. Not affiliated ...   \n",
      "3  San Marcos  Owned by Port Brewing Company. Not affiliated ...   \n",
      "4  San Marcos  Owned by Port Brewing Company. Not affiliated ...   \n",
      "\n",
      "                      types  \n",
      "0  Brewery, Bar, Beer-to-go  \n",
      "1  Brewery, Bar, Beer-to-go  \n",
      "2  Brewery, Bar, Beer-to-go  \n",
      "3  Brewery, Bar, Beer-to-go  \n",
      "4  Brewery, Bar, Beer-to-go  \n",
      "\n",
      "[5 rows x 21 columns]\n"
     ]
    }
   ],
   "source": [
    "import pandas as pd\n",
    "\n",
    "try:\n",
    "    df = pd.read_csv('final_beers_reviews_breweries.csv')\n",
    "    print(\"\\final Data Sample:\")\n",
    "    print(df.head())\n",
    "except Exception as e:\n",
    "    print(f\"Error loading reviews.csv: {e}\")"
   ]
  },
  {
   "cell_type": "code",
   "execution_count": 2,
   "id": "7ce4976d-7bc8-4916-a28e-5bfdf4fce0ba",
   "metadata": {},
   "outputs": [
    {
     "name": "stdout",
     "output_type": "stream",
     "text": [
      "<class 'pandas.core.frame.DataFrame'>\n",
      "RangeIndex: 614525 entries, 0 to 614524\n",
      "Data columns (total 21 columns):\n",
      " #   Column         Non-Null Count   Dtype  \n",
      "---  ------         --------------   -----  \n",
      " 0   name           614525 non-null  object \n",
      " 1   state          614525 non-null  object \n",
      " 2   country        614525 non-null  object \n",
      " 3   style          614525 non-null  object \n",
      " 4   availability   614525 non-null  object \n",
      " 5   abv            614525 non-null  float64\n",
      " 6   notes          614525 non-null  object \n",
      " 7   beer_id        614525 non-null  int64  \n",
      " 8   username       614525 non-null  object \n",
      " 9   date           614525 non-null  object \n",
      " 10  text           614525 non-null  object \n",
      " 11  look           614525 non-null  float64\n",
      " 12  smell          614525 non-null  float64\n",
      " 13  taste          614525 non-null  float64\n",
      " 14  feel           614525 non-null  float64\n",
      " 15  overall        614525 non-null  float64\n",
      " 16  score          614525 non-null  float64\n",
      " 17  name_brewery   614525 non-null  object \n",
      " 18  city           614525 non-null  object \n",
      " 19  notes_brewery  614525 non-null  object \n",
      " 20  types          614525 non-null  object \n",
      "dtypes: float64(7), int64(1), object(13)\n",
      "memory usage: 98.5+ MB\n"
     ]
    }
   ],
   "source": [
    "df.info()"
   ]
  },
  {
   "cell_type": "markdown",
   "id": "a635e80a-281d-42e5-89db-1cbbe27525ec",
   "metadata": {},
   "source": [
    "## User vs Liked Beer Matrix\n",
    "This cell marks review scores  scores into “likes” (e.g. score ≥ 4 → 1, else 0). A pivot is performed after so that each row is a user and each column is a beer.\n"
   ]
  },
  {
   "cell_type": "code",
   "execution_count": 7,
   "id": "b17a93b7-de29-488f-ae88-ffd9ee0d9d9b",
   "metadata": {},
   "outputs": [],
   "source": [
    "df['liked'] = (df['score'] >= 4.0).astype(int)\n",
    "\n",
    "user_beer = df.pivot_table(\n",
    "    index='username', \n",
    "    columns='beer_id',\n",
    "    values='liked',\n",
    "    aggfunc='max',\n",
    "    fill_value=0\n",
    ")\n"
   ]
  },
  {
   "cell_type": "code",
   "execution_count": 8,
   "id": "079eedcc-9694-4d54-aae0-03ecb5dd8b1b",
   "metadata": {},
   "outputs": [
    {
     "name": "stdout",
     "output_type": "stream",
     "text": [
      "<class 'pandas.core.frame.DataFrame'>\n",
      "Index: 15894 entries, --Dom-- to zymurgy4all\n",
      "Columns: 500 entries, 6 to 148052\n",
      "dtypes: int64(500)\n",
      "memory usage: 60.8+ MB\n"
     ]
    }
   ],
   "source": [
    "user_beer.info()"
   ]
  },
  {
   "cell_type": "markdown",
   "id": "b1db6c68-8b41-40c9-9ee8-22c59e87a073",
   "metadata": {},
   "source": [
    "## Export Final Content DataFrame\n"
   ]
  },
  {
   "cell_type": "code",
   "execution_count": 9,
   "id": "b3805ce5-a2ba-4c27-84a5-a3f67dceccef",
   "metadata": {},
   "outputs": [],
   "source": [
    "user_beer.to_csv(\"user_beer_likes.csv\", index=True)"
   ]
  },
  {
   "cell_type": "code",
   "execution_count": null,
   "id": "939d8820-ca26-438f-bf58-381025dda073",
   "metadata": {},
   "outputs": [],
   "source": []
  }
 ],
 "metadata": {
  "kernelspec": {
   "display_name": "Python 3 (ipykernel)",
   "language": "python",
   "name": "python3"
  },
  "language_info": {
   "codemirror_mode": {
    "name": "ipython",
    "version": 3
   },
   "file_extension": ".py",
   "mimetype": "text/x-python",
   "name": "python",
   "nbconvert_exporter": "python",
   "pygments_lexer": "ipython3",
   "version": "3.8.20"
  }
 },
 "nbformat": 4,
 "nbformat_minor": 5
}
