{
 "cells": [
  {
   "cell_type": "markdown",
   "id": "da405eb3-a82b-43fe-9176-6ea969466222",
   "metadata": {},
   "source": [
    "# Beer Recommender System: Data Exploration and Preprocessing\n",
    "\n",
    "This notebook represents the foundational phase of a hybrid beer recommender system project. The primary objective at this stage is to perform exploratory data analysis and preprocessing in preparation for building both collaborative filtering and content-based recommendation models using deep learning techniques.\n",
    "\n",
    "## Dataset Source\n",
    "The dataset utilized in this project is publicly available on Kaggle:  \n",
    "**Beers, Breweries, and Beer Reviews**  \n",
    "Link: [https://www.kaggle.com/datasets/ehallmar/beers-breweries-and-beer-reviews](https://www.kaggle.com/datasets/ehallmar/beers-breweries-and-beer-reviews)\n",
    "\n",
    "It comprises the following components:\n",
    "- `beers.csv`: Provides metadata for each beer, including style, alcohol by volume (ABV), and availability information.\n",
    "- `breweries.csv`: Contains details about breweries, such as their geographical location and operational type.\n",
    "- `reviews.csv`: Consists of more than 2 million user-submitted reviews, featuring numerical ratings, review text, user IDs, and timestamps.\n",
    "\n",
    "## Objective of This Notebook\n",
    "The aim of this notebook is to:\n",
    "- Load and verify the integrity of the raw data\n",
    "- Clean and filter out incomplete or inconsistent records\n",
    "- Merge datasets to create a unified structure for analysis\n",
    "- Engineer a cleaned dataset tailored for recommendation modeling\n",
    "- Extract preliminary insights related to user behavior and beer popularity\n",
    "\n",
    "The outputs generated in this phase are intended to support the development and evaluation of both collaborative and content-driven recommendation strategies in later stages of the project.\n"
   ]
  },
  {
   "cell_type": "code",
   "execution_count": null,
   "id": "95b7d26e-fab0-4f8b-be24-e93b06dfd9d7",
   "metadata": {},
   "outputs": [],
   "source": []
  },
  {
   "cell_type": "markdown",
   "id": "222f3dbb-be29-4c70-a2ba-3a46c51926e9",
   "metadata": {},
   "source": [
    "## Loading Datasets\n",
    "\n",
    "The dataset comprises three primary CSV files, each of which is imported into a pandas DataFrame for further analysis:\n",
    "\n",
    "- **`beers.csv`**: Contains metadata for individual beers, including their name, style, alcohol by volume (ABV), availability status, and descriptive notes.\n",
    "- **`breweries.csv`**: Includes information about each brewery, such as its name, geographic location (city, state, country), and type (e.g., brewery, bar, store).\n",
    "- **`reviews.csv`**: A substantial dataset with over 9 million user-generated reviews. Each entry features ratings for five sensory attributes (look, smell, taste, feel, overall), accompanying review text, the reviewer’s username, and a timestamp.\n",
    "\n",
    "The datasets are read using `pandas.read_csv()` with UTF-8 encoding. The `low_memory=False` flag is applied to ensure reliable type inference, particularly given the file size of the reviews dataset. Upon successful loading, representative samples from each DataFrame are printed to confirm the structure and contents.\n"
   ]
  },
  {
   "cell_type": "code",
   "execution_count": 1,
   "id": "958a291c-5cbf-423b-9164-22af1d4d8c11",
   "metadata": {},
   "outputs": [
    {
     "name": "stdout",
     "output_type": "stream",
     "text": [
      "Error loading beers.csv: [Errno 2] No such file or directory: 'beers.csv'\n",
      "Error loading breweries.csv: [Errno 2] No such file or directory: 'breweries.csv'\n",
      "Error loading reviews.csv: [Errno 2] No such file or directory: 'reviews.csv'\n"
     ]
    }
   ],
   "source": [
    "import pandas as pd\n",
    "\n",
    "# File paths\n",
    "beers_file = \"beers.csv\"\n",
    "breweries_file = \"breweries.csv\"\n",
    "reviews_file = \"reviews.csv\"\n",
    "\n",
    "# Load Beers Data\n",
    "try:\n",
    "    beers = pd.read_csv(beers_file, encoding=\"utf-8\", low_memory=False)\n",
    "    print(\"\\nBeers Data Sample:\")\n",
    "    print(beers.head())\n",
    "except Exception as e:\n",
    "    print(f\"Error loading beers.csv: {e}\")\n",
    "\n",
    "# Load Breweries Data\n",
    "try:\n",
    "    breweries = pd.read_csv(breweries_file, encoding=\"utf-8\", low_memory=False)\n",
    "    print(\"\\nBreweries Data Sample:\")\n",
    "    print(breweries.head())\n",
    "except Exception as e:\n",
    "    print(f\"Error loading breweries.csv: {e}\")\n",
    "\n",
    "# Load Reviews Data\n",
    "try:\n",
    "    reviews = pd.read_csv(reviews_file, encoding=\"utf-8\", low_memory=False)\n",
    "    print(\"\\nReviews Data Sample:\")\n",
    "    print(reviews.head())\n",
    "except Exception as e:\n",
    "    print(f\"Error loading reviews.csv: {e}\")\n",
    "\n"
   ]
  },
  {
   "cell_type": "markdown",
   "id": "5ce250dc-86ac-41fa-9b08-293ffc575481",
   "metadata": {},
   "source": [
    "---"
   ]
  },
  {
   "cell_type": "markdown",
   "id": "8d1d973c-2255-4934-93a8-70a2ce3f3e70",
   "metadata": {},
   "source": [
    "To assess the completeness of the review dataset, the `.count()` method is applied to the `reviews` DataFrame. This provides a column-wise summary of non-null entries, offering insight into the proportion of missing values across different features prior to the cleaning process.\n"
   ]
  },
  {
   "cell_type": "code",
   "execution_count": 2,
   "id": "39e76ae0-663d-4693-a4ac-a4dc036369ae",
   "metadata": {},
   "outputs": [
    {
     "ename": "NameError",
     "evalue": "name 'reviews' is not defined",
     "output_type": "error",
     "traceback": [
      "\u001b[0;31m---------------------------------------------------------------------------\u001b[0m",
      "\u001b[0;31mNameError\u001b[0m                                 Traceback (most recent call last)",
      "Cell \u001b[0;32mIn[2], line 1\u001b[0m\n\u001b[0;32m----> 1\u001b[0m \u001b[43mreviews\u001b[49m\u001b[38;5;241m.\u001b[39mcount()\n",
      "\u001b[0;31mNameError\u001b[0m: name 'reviews' is not defined"
     ]
    }
   ],
   "source": [
    "reviews.count()"
   ]
  },
  {
   "cell_type": "markdown",
   "id": "f5e50536-cfda-49c0-bdb4-9b0aebb68d27",
   "metadata": {},
   "source": [
    "---"
   ]
  },
  {
   "cell_type": "markdown",
   "id": "06c84f58-e8b5-4940-8ae0-2755948b90fb",
   "metadata": {},
   "source": [
    "## Data Cleaning and Feature Engineering\n",
    "\n",
    "This section performs a full data preparation pipeline across the `beers`, `breweries`, and `reviews` datasets. The key steps are as follows:\n",
    "\n",
    "### 1. Data Cleaning\n",
    "- **Duplicate Removal**: Duplicate entries are dropped from all three datasets to prevent data leakage or skewed analysis.\n",
    "- **Missing Value Handling**:\n",
    "  - `state` and `country` fields are imputed with `\"Unknown\"` where missing.\n",
    "  - `abv` (alcohol by volume) and `score` (user rating) are imputed with their respective median values.\n",
    "  - Empty review texts are replaced with an empty string (`\"\"`).\n",
    "  - Missing `user_id` values are encoded as `-1` to denote unidentified users.\n",
    "\n",
    "### 2. Feature Encoding\n",
    "- **Label Encoding** is applied to categorical variables:\n",
    "  - `style` and `availability` (from `beers`)\n",
    "  - `country` (from `breweries`)\n",
    "- **Feature Scaling**:\n",
    "  - `abv` and `score` are normalized to the [0, 1] range using `MinMaxScaler` for better compatibility with learning algorithms.\n",
    "\n",
    "### 3. Data Merging\n",
    "- `beers` and `breweries` are merged on `brewery_id` using a left join to preserve all beer records.\n",
    "- The combined result is then merged with `reviews` using the beer identifier.\n",
    "- Redundant or unneeded columns (`notes_x`, `notes_y`, `types`, `text`) are dropped to reduce memory usage and improve clarity.\n",
    "\n",
    "### 4. Feature Construction\n",
    "- A new feature `brewery_location` is created by concatenating city, state, and country.\n",
    "- The `retired` field, originally in `t/f` format, is mapped to binary `1/0` values for modeling convenience.\n",
    "\n",
    "### 5. Output\n",
    "The resulting dataset, `beer_reviews_data`, is exported to a CSV file named `cleaned_beer_reviews_data.csv` and a preview is displayed for verification.\n",
    "\n",
    "These preprocessing steps ensure that the dataset is well-structured, numerically encoded, and ready for downstream modeling tasks such as training recommender systems.\n"
   ]
  },
  {
   "cell_type": "code",
   "execution_count": null,
   "id": "f80c7164-da59-45ab-a763-b475ac229ab5",
   "metadata": {},
   "outputs": [],
   "source": [
    "# Takes quite a while to load the huge data\n",
    "\n",
    "from sklearn.preprocessing import LabelEncoder, MinMaxScaler\n",
    "from IPython.display import display\n",
    "\n",
    "# Load Datasets\n",
    "beers = pd.read_csv(\"beers.csv\", encoding=\"utf-8\", low_memory=False)\n",
    "breweries = pd.read_csv(\"breweries.csv\", encoding=\"utf-8\", low_memory=False)\n",
    "reviews = pd.read_csv(\"reviews.csv\", encoding=\"utf-8\", low_memory=False)\n",
    "\n",
    "# DATA CLEANING\n",
    "\n",
    "# Remove duplicate rows\n",
    "beers.drop_duplicates(inplace=True)\n",
    "breweries.drop_duplicates(inplace=True)\n",
    "reviews.drop_duplicates(inplace=True)\n",
    "\n",
    "# Handle Missing Values\n",
    "beers.fillna({'state': 'Unknown', 'country': 'Unknown', 'abv': beers['abv'].median()}, inplace=True)\n",
    "breweries.fillna({'city': 'Unknown', 'state': 'Unknown', 'country': 'Unknown'}, inplace=True)\n",
    "reviews.fillna({'text': '', 'user_id': -1, 'score': reviews['score'].median()}, inplace=True)\n",
    "\n",
    "# state, country → filled with 'Unknown'\n",
    "# abv (Alcohol By Volume) → filled with the median\n",
    "# text (review text) → filled with an empty string\n",
    "# score (beer rating) → filled with the median rating\n",
    "# user_id → filled with -1 (indicating missing user ID)\n",
    "\n",
    "# FEATURE ENCODING\n",
    "\n",
    "# Encode categorical variables using Label Encoding\n",
    "label_enc = LabelEncoder()\n",
    "beers['style_encoded'] = label_enc.fit_transform(beers['style'])\n",
    "beers['availability_encoded'] = label_enc.fit_transform(beers['availability'])\n",
    "breweries['country_encoded'] = label_enc.fit_transform(breweries['country'])\n",
    "\n",
    "# Normalize numerical features, abv and score to 0-1 range \n",
    "scaler = MinMaxScaler()\n",
    "beers['abv_normalized'] = scaler.fit_transform(beers[['abv']])\n",
    "reviews['score_normalized'] = scaler.fit_transform(reviews[['score']])\n",
    "\n",
    "# MERGE DATA\n",
    "\n",
    "# Rename 'id' in breweries to 'brewery_id' for merging\n",
    "breweries.rename(columns={'id': 'brewery_id', 'name': 'brewery_name'}, inplace=True)\n",
    "\n",
    "# Merge Beers and Breweries, ensuring that the columns do not overwrite each other\n",
    "beer_data = pd.merge(beers, breweries, on='brewery_id', how='left', suffixes=('_beer', '_brewery'))\n",
    "\n",
    "# Merge Reviews with Beer Data \n",
    "beer_reviews_data = pd.merge(beer_data, reviews, left_on='id', right_on='beer_id', how='left')\n",
    "\n",
    "# Drop redundant columns, check the existence before dropping\n",
    "columns_to_drop = ['notes_x', 'notes_y', 'types', 'text']\n",
    "beer_reviews_data.drop(columns=[col for col in columns_to_drop if col in beer_reviews_data.columns], inplace=True)\n",
    "\n",
    "# MODIFYING FEATURES\n",
    "\n",
    "# Ensure 'state' and 'country' columns exist\n",
    "beer_reviews_data['state'] = beer_reviews_data.get('state', 'Unknown')\n",
    "beer_reviews_data['country'] = beer_reviews_data.get('country', 'Unknown')\n",
    "\n",
    "# Create a new brewery location feature\n",
    "beer_reviews_data['brewery_location'] = (\n",
    "    beer_reviews_data['city'].fillna('Unknown') + ', ' +\n",
    "    beer_reviews_data['state'].fillna('Unknown') + ', ' +\n",
    "    beer_reviews_data['country'].fillna('Unknown')\n",
    ")\n",
    "\n",
    "# Convert 'retired' from 't'/'f' to 1/0, if there are missing values, convert to 0\n",
    "if 'retired' in beer_reviews_data.columns:\n",
    "    beer_reviews_data['retired'] = beer_reviews_data['retired'].map({'t': 1, 'f': 0}).fillna(0)\n",
    "\n",
    "# SAVE AND DISPLAY THE PROCESSED DATA\n",
    "\n",
    "# Save the cleaned dataset\n",
    "beer_reviews_data.to_csv(\"cleaned_beer_reviews_data.csv\", index=False)\n",
    "\n",
    "# Display Processed Data\n",
    "display(beer_reviews_data.head())"
   ]
  },
  {
   "cell_type": "markdown",
   "id": "7ff474c7-2819-4712-aaf1-b920f81d2481",
   "metadata": {},
   "source": [
    "---"
   ]
  },
  {
   "cell_type": "markdown",
   "id": "fb7e28b4-dc6a-4dba-935f-85e8242a03f0",
   "metadata": {},
   "source": [
    "## Preliminary Data Summary\n",
    "\n",
    "Following the loading of the cleaned dataset (`cleaned_beer_reviews_data.csv`), a high-level overview was conducted using `.info()`, `.describe()`, and `.isnull().sum()` to assess structure, statistical properties, and missingness within the data.\n",
    "\n",
    "### Key Observations\n",
    "\n",
    "- **Dataset Size**: The dataset contains approximately 9.1 million records and 32 columns. This includes both original attributes (e.g., `abv`, `style`, `look`, `taste`) and engineered features (e.g., `style_encoded`, `abv_normalized`, `score_normalized`).\n",
    "\n",
    "- **Data Types**: There is a mix of numerical, categorical, and textual features. Float columns dominate the rating features, while identifiers and descriptive fields are held as integers or strings.\n",
    "\n",
    "- **Missing Values**:\n",
    "  - Over **3.8 million reviews** are missing detailed tasting scores (`look`, `smell`, `taste`, `feel`, `overall`), likely reflecting partial user feedback.\n",
    "  - Approximately **49,000 entries** are missing values for `beer_id`, `score`, and `score_normalized`, likely due to incomplete merges or filtering.\n",
    "  - A small number of entries are missing in fields such as `style` (2 records), `notes_beer` (2,765), and `notes_brewery` (5,092).\n",
    "  - Approximately **53,000 reviews** are missing the `username`, which limits the ability to conduct personalized or collaborative filtering.\n",
    "\n",
    "- **Score Distribution**: Most rating features (including the composite `score`) follow a near-normal distribution centered around 4.0, with a maximum of 5.0. The `score_normalized` ranges from 0 to 1, providing a scaled variant for downstream models.\n",
    "\n",
    "These findings inform the next stage of the pipeline—namely, filtering incomplete records and constructing a balanced dataset for model training. Fields with critical missing values (e.g., review scores, user IDs) may be excluded, while textual fields (e.g., notes) may be imputed or ignored based on model requirements.\n"
   ]
  },
  {
   "cell_type": "code",
   "execution_count": null,
   "id": "afb53cb8-855f-4bd2-bc55-ec73de19a542",
   "metadata": {},
   "outputs": [],
   "source": [
    "import matplotlib.pyplot as plt\n",
    "import seaborn as sns\n",
    "\n",
    "# Load Preprocessed Data\n",
    "beer_reviews_data = pd.read_csv(\"cleaned_beer_reviews_data.csv\")\n",
    "\n",
    "# Basic Data Info\n",
    "print(\"Dataset Overview:\")\n",
    "print(beer_reviews_data.info())\n",
    "\n",
    "print(\"\\nSummary Statistics:\")\n",
    "print(beer_reviews_data.describe())\n",
    "\n",
    "print(\"\\nMissing Values:\")\n",
    "print(beer_reviews_data.isnull().sum())"
   ]
  },
  {
   "cell_type": "markdown",
   "id": "38c968c4-6809-4653-9f79-bd07dc5a6d0c",
   "metadata": {},
   "source": [
    "---"
   ]
  },
  {
   "cell_type": "code",
   "execution_count": null,
   "id": "b3de6ee9-b1b2-4dd2-99d2-d61c20720d46",
   "metadata": {},
   "outputs": [],
   "source": []
  },
  {
   "cell_type": "code",
   "execution_count": null,
   "id": "8bfc709b-ce2e-4141-b18e-f654f24c00a5",
   "metadata": {},
   "outputs": [],
   "source": []
  },
  {
   "cell_type": "code",
   "execution_count": null,
   "id": "3d9c7f4e-d1fe-4d2e-a62d-f50121b15c84",
   "metadata": {},
   "outputs": [],
   "source": []
  },
  {
   "cell_type": "markdown",
   "id": "0a0e2756-b497-44b6-a4f1-edcbff67eceb",
   "metadata": {},
   "source": [
    "---"
   ]
  },
  {
   "cell_type": "markdown",
   "id": "90e0de8e-6088-417c-a3b6-44de2b7ff012",
   "metadata": {},
   "source": [
    "## Beer and Style Popularity Insights\n",
    "\n",
    "Two bar plots were generated to identify the most reviewed beers and the most common beer styles in the dataset:\n",
    "\n",
    "- **Top 10 Most Reviewed Beers**: The beer with the highest number of reviews is *IPA*, followed by other popular options such as *Porter*, *Imperial Stout*, and *Breakfast Stout*. These results highlight a strong consumer interest in hop-forward and dark beer varieties.\n",
    "\n",
    "- **Top 10 Most Common Beer Styles**: *American IPA* dominates the style distribution, followed by *American Imperial IPA* and *American Imperial Stout*. This indicates that hop-centric styles are the most frequently encountered and reviewed by users.\n",
    "\n",
    "These findings reflect the dominance of bold, flavorful beer types—especially IPAs and stouts—in both user interest and dataset coverage. This trend can influence model performance and bias, and may require attention during model training or evaluation.\n"
   ]
  },
  {
   "cell_type": "code",
   "execution_count": null,
   "id": "2310e212-e549-4e11-9664-b87816aace6c",
   "metadata": {},
   "outputs": [],
   "source": [
    "top_beers = beer_reviews_data['name'].value_counts().head(10)\n",
    "top_styles = beer_reviews_data['style'].value_counts().head(10)\n",
    "top_breweries = beer_reviews_data['brewery_name'].value_counts().head(10)\n",
    "\n",
    "# Plot Most Popular Beers\n",
    "plt.figure(figsize=(12, 5))\n",
    "sns.barplot(y=top_beers.index, x=top_beers.values, palette=\"viridis\")\n",
    "plt.xlabel(\"Number of Reviews\")\n",
    "plt.ylabel(\"Beer Name\")\n",
    "plt.title(\"Top 10 Most Reviewed Beers\")\n",
    "plt.show()\n",
    "\n",
    "# Plot Most Popular Styles\n",
    "plt.figure(figsize=(12, 5))\n",
    "sns.barplot(y=top_styles.index, x=top_styles.values, palette=\"coolwarm\")\n",
    "plt.xlabel(\"Number of Reviews\")\n",
    "plt.ylabel(\"Beer Style\")\n",
    "plt.title(\"Top 10 Most Common Beer Styles\")\n",
    "plt.show()"
   ]
  },
  {
   "cell_type": "markdown",
   "id": "d121fb12-2ff7-4334-a1d5-20f8e31c09d3",
   "metadata": {},
   "source": [
    "---"
   ]
  },
  {
   "cell_type": "markdown",
   "id": "2df06975-8fc3-4e4c-bdf2-16db5066fb44",
   "metadata": {},
   "source": [
    "## Alcohol Content vs. Beer Ratings\n",
    "\n",
    "A scatter plot was generated to visualize the relationship between a beer’s alcohol by volume (ABV) and its average user rating (`score`).\n",
    "\n",
    "### Key Observations:\n",
    "- **Concentration at Lower ABV**: Most beers in the dataset fall within the 0%–20% ABV range, which aligns with typical commercial brewing practices.\n",
    "- **Sparse High-ABV Entries**: A small number of beers exhibit unusually high ABV values (above 40%), which may be outliers or non-standard entries.\n",
    "- **No Strong Correlation**: Visually, there is no clear linear or monotonic relationship between ABV and user ratings. Highly rated beers are present across the full ABV spectrum.\n",
    "- **Potential Outliers**: Extremely high ABV values (above 60%) may warrant further inspection or removal in downstream analyses.\n",
    "\n",
    "This chart suggests that while ABV is an important beer attribute, it does not strongly influence overall user ratings in isolation.\n",
    "\n",
    "## Distribution of Beer Ratings\n",
    "\n",
    "The distribution of beer rating scores was visualized using a histogram with kernel density estimation (KDE) overlay.\n",
    "\n",
    "### Key Observations:\n",
    "- **Rating Bias Toward Higher Scores**: The distribution is right-skewed, with the majority of reviews falling between scores of **3.5 and 4.5**, peaking sharply at **4.0**.\n",
    "- **Sparse Low Ratings**: Ratings below 3.0 are relatively rare, indicating that users are generally lenient or that poor-quality beers receive fewer reviews.\n",
    "- **Multi-Modal Structure**: The KDE line reveals subtle peaks within the high-score range, potentially reflecting user rating tendencies influenced by platform behavior or cultural biases (e.g., favoring round numbers like 4.0 or 4.5).\n",
    "\n",
    "This non-uniform distribution suggests that models trained on this data may benefit from rating normalization or weighting schemes to account for class imbalance.\n",
    "\n"
   ]
  },
  {
   "cell_type": "code",
   "execution_count": null,
   "id": "c5973ab2-e707-4c64-8d37-ad6443668f47",
   "metadata": {},
   "outputs": [],
   "source": [
    "# ABV vs. Ratings Analysis\n",
    "plt.figure(figsize=(10, 5))\n",
    "sns.scatterplot(x=beer_reviews_data['abv'], y=beer_reviews_data['score'], alpha=0.5)\n",
    "plt.xlabel(\"Alcohol by Volume (ABV)\")\n",
    "plt.ylabel(\"Beer Rating\")\n",
    "plt.title(\"ABV vs. Beer Ratings\")\n",
    "plt.show()\n",
    "\n",
    "# Distribution of Beer Ratings -----------------\n",
    "plt.figure(figsize=(10, 5))\n",
    "sns.histplot(beer_reviews_data['score'], bins=30, kde=True, color=\"blue\")\n",
    "plt.xlabel(\"Beer Rating Score\")\n",
    "plt.ylabel(\"Frequency\")\n",
    "plt.title(\"Distribution of Beer Ratings\")\n",
    "plt.show()"
   ]
  },
  {
   "cell_type": "markdown",
   "id": "e0e4c77d-f05c-4d60-8c8f-1625d5f3d232",
   "metadata": {},
   "source": [
    "---"
   ]
  },
  {
   "attachments": {},
   "cell_type": "markdown",
   "id": "671c8c30-c51b-4cdb-bc59-e792e0db574a",
   "metadata": {},
   "source": [
    "## User Rating Behavior\n",
    "\n",
    "The chart above highlights the top 10 most active users based on the number of beer reviews submitted.\n",
    "\n",
    "### Key Observations:\n",
    "- **Heavy Review Concentration**: A small number of users contribute disproportionately to the dataset. For example, the user *Sammy* submitted nearly 14,000 reviews, significantly more than the others.\n",
    "- **Long Tail Effect**: While these top users are highly active, they represent a small fraction of the overall user base, reflecting a typical long-tail distribution commonly observed in user-generated content\n"
   ]
  },
  {
   "cell_type": "code",
   "execution_count": null,
   "id": "234389e2-0a47-4951-964a-ba8823665fd0",
   "metadata": {},
   "outputs": [],
   "source": [
    "# User Rating Behavior \n",
    "top_users = beer_reviews_data['username'].value_counts().head(10)\n",
    "\n",
    "plt.figure(figsize=(12, 5))\n",
    "sns.barplot(y=top_users.index, x=top_users.values, palette=\"magma\")\n",
    "plt.xlabel(\"Number of Reviews Given\")\n",
    "plt.ylabel(\"Username\")\n",
    "plt.title(\"Top 10 Users with Most Reviews\")\n",
    "plt.show()"
   ]
  },
  {
   "cell_type": "markdown",
   "id": "041d2ebe-8737-4703-92e7-b598b026f028",
   "metadata": {},
   "source": [
    "---"
   ]
  },
  {
   "cell_type": "markdown",
   "id": "a6d4ef40-2f35-4c70-981b-a4fd71bdf4a1",
   "metadata": {},
   "source": [
    "---"
   ]
  },
  {
   "cell_type": "markdown",
   "id": "2fe2f680-9089-4366-956a-f5dd2d28ab47",
   "metadata": {},
   "source": [
    "## Data Cleaning and Merging\n",
    "\n",
    "Before building any recommendation models, it is essential to ensure the data is complete, consistent, and well-structured. This section focuses on cleaning each dataset by removing duplicates, handling missing values, encoding categorical variables, and normalizing numeric features.\n",
    "\n",
    "Once cleaned, the datasets (`beers`, `breweries`, and `reviews`) are merged to form a unified dataset that captures both product metadata and user interactions. This merged dataset will serve as the foundation for all downstream modeling tasks, including collaborative and content-based recommendation systems.\n"
   ]
  },
  {
   "cell_type": "code",
   "execution_count": null,
   "id": "f68bd17d-9de2-4bb6-9c86-8aad43ada2fc",
   "metadata": {
    "jupyter": {
     "source_hidden": true
    }
   },
   "outputs": [],
   "source": [
    "import pandas as pd\n",
    "\n",
    "# File paths\n",
    "beers_file = \"beers.csv\"\n",
    "breweries_file = \"breweries.csv\"\n",
    "reviews_file = \"reviews.csv\"\n",
    "\n",
    "# Load Beers Data\n",
    "try:\n",
    "    beers = pd.read_csv(beers_file, encoding=\"utf-8\", low_memory=False)\n",
    "    print(\"\\nBeers Data Sample:\")\n",
    "    print(beers.head())\n",
    "except Exception as e:\n",
    "    print(f\"Error loading beers.csv: {e}\")\n",
    "\n",
    "# Load Breweries Data\n",
    "try:\n",
    "    breweries = pd.read_csv(breweries_file, encoding=\"utf-8\", low_memory=False)\n",
    "    print(\"\\nBreweries Data Sample:\")\n",
    "    print(breweries.head())\n",
    "except Exception as e:\n",
    "    print(f\"Error loading breweries.csv: {e}\")\n",
    "\n",
    "# Load Reviews Data\n",
    "try:\n",
    "    reviews = pd.read_csv(reviews_file, encoding=\"utf-8\", low_memory=False)\n",
    "    print(\"\\nReviews Data Sample:\")\n",
    "    print(reviews.head())\n",
    "except Exception as e:\n",
    "    print(f\"Error loading reviews.csv: {e}\")\n",
    "\n"
   ]
  },
  {
   "cell_type": "markdown",
   "id": "7dda6b85-3aec-45ca-914d-533d844f91dd",
   "metadata": {},
   "source": [
    "### Filtering Invalid or Outlier Beers\n",
    "\n",
    "To ensure data quality and remove unrepresentative entries, a set of filtering rules was applied to the original `beers` dataset:\n",
    "\n",
    "- **Missing Values**: Beers with null values in either the `abv` (Alcohol by Volume) or `notes` fields were excluded.\n",
    "- **Extreme ABV Values**: Beers with ABV greater than 20% were removed to eliminate unrealistic or rare outliers, as most commercial beers fall well below this threshold.\n",
    "- **Retired Products**: Beers marked as retired (`retired = 't'`) were excluded to ensure recommendations focus on currently available products.\n",
    "\n",
    "After filtering, the `beers_clean` DataFrame contains **222,633 valid beer entries**, offering a cleaner foundation for merging with review data and building models.\n"
   ]
  },
  {
   "cell_type": "code",
   "execution_count": null,
   "id": "d64e7a9e-0115-495f-918c-15b3c934fa4a",
   "metadata": {},
   "outputs": [],
   "source": [
    "# Drop beers with null abv and notes. Drop beers with abv more than 20. Drop retired beers\n",
    "beers_clean = beers.dropna(subset=['abv', 'notes'])\n",
    "beers_clean = beers_clean[(beers_clean['abv'] < 20) & (beers_clean['retired'] != 't')]\n",
    "beers_clean.count()"
   ]
  },
  {
   "cell_type": "markdown",
   "id": "9cfae308-b690-4f38-87d5-39374a349a6f",
   "metadata": {},
   "source": [
    "---\n",
    "### Cleaning Beer Reviews\n",
    "\n",
    "The `reviews.csv` file initially contained over 9 million entries, but many reviews were incomplete. Only ~5.2 million had full tasting scores (`look`, `smell`, `taste`, `feel`, `overall`). To focus on high-quality feedback:\n",
    "\n",
    "- We dropped rows with missing values in any of the core rating fields or empty `username` values.\n",
    "- Blank review texts were also removed.\n",
    "\n",
    "After this filtering, **2.82 million reviews** remained with complete scoring and non-empty review text.\n",
    "\n"
   ]
  },
  {
   "cell_type": "code",
   "execution_count": null,
   "id": "7d8e3538-6dc8-4c8b-8a97-57dce21f9d9f",
   "metadata": {},
   "outputs": [],
   "source": [
    "# Filter out reviews with null values of tasting features and username\n",
    "reviews_clean = reviews.dropna(subset=['text','look', 'smell', 'taste', 'feel', 'overall','username'])\n",
    "reviews_clean = reviews_clean[reviews_clean['text'].str.strip() != '']\n",
    "reviews_clean.count()"
   ]
  },
  {
   "cell_type": "markdown",
   "id": "6e1fd8b3-e1f2-4cef-bc16-b18c0dcc6212",
   "metadata": {},
   "source": [
    "---\n",
    "\n",
    "### Merging Beers and Reviews\n",
    "\n",
    "We performed an **inner join** between the cleaned beers and reviews using the `beer_id`. This step ensured we only retained reviews for beers that passed the quality filter. The resulting merged dataset contained:\n",
    "\n",
    "- ~2.24 million high-quality reviews\n",
    "- All entries had full beer metadata and user rating information\n",
    "\n"
   ]
  },
  {
   "cell_type": "code",
   "execution_count": null,
   "id": "40f6b62b-c723-4ff9-a664-e67c1f710e5a",
   "metadata": {},
   "outputs": [],
   "source": [
    "# inner join of reviews and beers\n",
    "merged_reviews = beers_clean.merge(reviews_clean, left_on='id', right_on='beer_id', how='inner')\n",
    "merged_reviews = merged_reviews.drop(columns=['id'])\n",
    "merged_reviews.count()"
   ]
  },
  {
   "cell_type": "markdown",
   "id": "70b51088-1430-4963-b7b2-1490d4b5fbfd",
   "metadata": {},
   "source": [
    "---\n",
    "\n",
    "### Filtering Active Users and Popular Beers\n",
    "\n",
    "To improve the robustness of collaborative filtering:\n",
    "\n",
    "1. **Users with fewer than 10 reviews** were excluded.  \n",
    "   This step helps ensure each user vector in the collaborative model is well-formed and not overly sparse.  \n",
    "   Resulting reviews: **~2.08 million**\n",
    "\n",
    "2. **Top 500 most reviewed beers** were selected.  \n",
    "   This reduces computational load and focuses modeling on beers with the most training signals.  \n",
    "   Resulting reviews: **614,525**\n",
    "\n"
   ]
  },
  {
   "cell_type": "code",
   "execution_count": null,
   "id": "1d3f80fa-ee9f-4b04-9b00-548e7bef048a",
   "metadata": {},
   "outputs": [],
   "source": [
    "# Count reviews per user. Exclude NaN values and empty strings before counting. Get users with more than 10 reviews\n",
    "user_review_counts = merged_reviews['username'].value_counts()\n",
    "users_with_10plus_reviews = user_review_counts[user_review_counts > 10].index\n",
    "filtered_reviews = merged_reviews[merged_reviews['username'].isin(users_with_10plus_reviews)]\n",
    "print(\"Reviews from users with more than 10 reviews: \")\n",
    "filtered_reviews.count()"
   ]
  },
  {
   "cell_type": "markdown",
   "id": "b7b7453f-b5d6-496e-b02f-d097a52da663",
   "metadata": {},
   "source": [
    "---\n",
    "\n",
    "### Enriching with Brewery Information\n",
    "\n",
    "Finally, we joined the filtered reviews with brewery metadata using the `brewery_id`. This added brewery name, city, and type information to each record. After the join:\n",
    "\n",
    "- All 614,525 reviews retained\n",
    "- Additional features like `name_brewery`, `city`, and `types` were included for possible future content-based features\n",
    "\n",
    "This finalized dataset is now balanced between beer variety, user activity, and rating completeness — ideal for both collaborative and content-based recommender models."
   ]
  },
  {
   "cell_type": "code",
   "execution_count": null,
   "id": "203468d4-e1f3-4206-a51b-007727bd3e73",
   "metadata": {},
   "outputs": [],
   "source": [
    "# Count reviews per beer. Get the top 500 beer IDs with most reviews\n",
    "beer_review_counts = filtered_reviews['beer_id'].value_counts()\n",
    "top_500_beers = beer_review_counts.nlargest(500).index\n",
    "top_500_beers_reviews = filtered_reviews[filtered_reviews['beer_id'].isin(top_500_beers)]\n",
    "print(\"Top 500 most reviewed beers: \")\n",
    "top_500_beers_reviews.count()"
   ]
  },
  {
   "cell_type": "markdown",
   "id": "6c3b55ae-b9cc-4d54-bd54-14d148d810c2",
   "metadata": {},
   "source": [
    "---"
   ]
  },
  {
   "cell_type": "markdown",
   "id": "65f716fd-5405-4c5f-9316-16927d9241bc",
   "metadata": {},
   "source": [
    "### Resolving Missing State Information\n",
    "\n",
    "During the merging process, several reviews were found to be associated with breweries that had missing state information. To improve geographic granularity, the following steps were performed:\n",
    "\n",
    "- A query was executed to identify all **cities and countries** associated with entries where the `state` field was missing.\n",
    "- A manual **city-to-state mapping dictionary** was constructed for common international cities. This mapping leverages domain knowledge and external references to assign appropriate state or regional labels based on known brewery locations.\n",
    "  - For instance:\n",
    "    - `Kelheim`, `München`, and `Aying` were mapped to `\"Bavaria\"`.\n",
    "    - `Leuven`, `Hoegaarden`, and `Vlezenbeek` were mapped to `\"Flemish Brabant\"`.\n",
    "    - `Mexico City` was mapped to itself as a federal entity.\n",
    "\n",
    "By enriching the `state` column using this mapping, the dataset gains improved location fidelity, which can support regional-level analysis or be used as a feature in recommendation models.\n"
   ]
  },
  {
   "cell_type": "code",
   "execution_count": 64,
   "id": "1bc26f3f-bef9-47c8-acc6-daa3a9963a9c",
   "metadata": {},
   "outputs": [
    {
     "name": "stdout",
     "output_type": "stream",
     "text": [
      "['Kelheim' 'München' 'Villers-devant-Orval' 'Aying' 'Ertvelde'\n",
      " 'Monterrey (Nuevo León)' 'Mexico City' 'Zoeterwoude' 'Hoegaarden'\n",
      " 'Leuven' 'Westvleteren' 'Plzeň' 'Cork' 'Vlezenbeek' 'Buggenhout'\n",
      " 'Rochefort' 'Malle' 'Dublin' 'Baileux (Chimay)' 'Roeselare' 'Kingston'\n",
      " 'Watou' 'Beersel' 'Breendonk-Puurs' 'Freising' 'Bamberg' 'Vorchdorf'\n",
      " 'Warstein' 'Oostvleteren' 'Biyagama' 'Melle' 'Berkel-Enschot' 'Brussels'\n",
      " 'Bitburg/Eifel' 'Tourpes' 'Vichte' 'Bad Köstritz/Thüringen' 'Roma'\n",
      " 'Achouffe' 'Dinant' 'Erding' 'Soy' 'Ceske Budejovice' 'Mechelen'\n",
      " 'København']\n",
      "['DE' 'BE' 'MX' 'NL' 'CZ' 'IE' 'JM' 'AT' 'LK' 'IT' 'DK']\n"
     ]
    }
   ],
   "source": [
    "# Get cities and countries of misisng reviews with missing states\n",
    "print(beer_reviews_with_breweries[beer_reviews_with_breweries['state'].isna()]['city'].unique())\n",
    "print(beer_reviews_with_breweries[beer_reviews_with_breweries['state'].isna()]['country'].unique())"
   ]
  },
  {
   "cell_type": "code",
   "execution_count": 65,
   "id": "697a026b-65fc-4e92-823d-788a3484deaa",
   "metadata": {},
   "outputs": [],
   "source": [
    "# mapping missing states from cities\n",
    "city_state_mapping = {\n",
    "    'Kelheim': 'Bavaria',\n",
    "    'München': 'Bavaria',\n",
    "    'Villers-devant-Orval': 'Luxembourg Province',\n",
    "    'Aying': 'Bavaria',\n",
    "    'Ertvelde': 'East Flanders',\n",
    "    'Monterrey (Nuevo León)': 'Nuevo León',\n",
    "    'Mexico City': 'Mexico City',\n",
    "    'Zoeterwoude': 'South Holland',\n",
    "    'Hoegaarden': 'Flemish Brabant',\n",
    "    'Leuven': 'Flemish Brabant',\n",
    "    'Westvleteren': 'West Flanders',\n",
    "    'Plzeň': 'Plzeň Region',\n",
    "    'Cork': 'County Cork',\n",
    "    'Vlezenbeek': 'Flemish Brabant',\n",
    "    'Buggenhout': 'East Flanders',\n",
    "    'Rochefort': 'Namur',\n",
    "    'Malle': 'Antwerp',\n",
    "    'Dublin': 'County Dublin',\n",
    "    'Baileux (Chimay)': 'Hainaut',\n",
    "    'Roeselare': 'West Flanders',\n",
    "    'Kingston': 'Kingston Parish',\n",
    "    'Watou': 'West Flanders',\n",
    "    'Beersel': 'Flemish Brabant',\n",
    "    'Breendonk-Puurs': 'Antwerp',\n",
    "    'Freising': 'Bavaria',\n",
    "    'Bamberg': 'Bavaria',\n",
    "    'Vorchdorf': 'Upper Austria',\n",
    "    'Warstein': 'North Rhine-Westphalia',\n",
    "    'Oostvleteren': 'West Flanders',\n",
    "    'Biyagama': 'Western Province',\n",
    "    'Melle': 'East Flanders',\n",
    "    'Berkel-Enschot': 'North Brabant',\n",
    "    'Brussels': 'Brussels-Capital Region',\n",
    "    'Bitburg/Eifel': 'Rhineland-Palatinate',\n",
    "    'Tourpes': 'Hainaut',\n",
    "    'Vichte': 'West Flanders',\n",
    "    'Bad Köstritz/Thüringen': 'Thuringia',\n",
    "    'Roma': 'Lazio',\n",
    "    'Achouffe': 'Luxembourg Province',\n",
    "    'Dinant': 'Namur',\n",
    "    'Erding': 'Bavaria',\n",
    "    'Soy': 'Wallonia',\n",
    "    'Ceske Budejovice': 'South Bohemian Region',\n",
    "    'Mechelen': 'Antwerp',\n",
    "    'København': 'Capital Region'\n",
    "}"
   ]
  },
  {
   "cell_type": "markdown",
   "id": "06840dcc-1c69-4cd2-9149-cd86dc0c7c12",
   "metadata": {},
   "source": [
    "---"
   ]
  },
  {
   "cell_type": "markdown",
   "id": "ad1900e3-20a7-41bf-9883-c2e8d7fab702",
   "metadata": {},
   "source": [
    "### Final Imputation and Cleanup\n",
    "\n",
    "To ensure completeness in geographical data, remaining null values in the `state` field were imputed using the previously defined `city_state_mapping`:\n",
    "\n",
    "- **Conditional Imputation**: A row-wise function was applied where any missing `state` value was replaced with its mapped equivalent based on the `city` field. If no mapping existed, the original (possibly null) value was retained.\n",
    "- **Result**: This step successfully resolved all missing `state` values, bringing the dataset to full completeness across all fields.\n",
    "\n",
    "Following imputation, two columns were dropped:\n",
    "- `retired`: Previously used for filtering but no longer needed for modeling.\n",
    "- `brewery_id`: Redundant after the dataset was enriched with detailed brewery information.\n",
    "\n",
    "The resulting `final_beers_reviews_breweries` DataFrame contains **614,525 fully enriched and cleaned entries**, ready for downstream modeling tasks such as collaborative filtering and hybrid recommender development.\n"
   ]
  },
  {
   "cell_type": "code",
   "execution_count": 67,
   "id": "1716dab7-fafb-468b-bd4b-3e0ac143a822",
   "metadata": {},
   "outputs": [
    {
     "data": {
      "text/plain": [
       "name             614525\n",
       "state            614525\n",
       "country          614525\n",
       "style            614525\n",
       "availability     614525\n",
       "abv              614525\n",
       "notes            614525\n",
       "beer_id          614525\n",
       "username         614525\n",
       "date             614525\n",
       "text             614525\n",
       "look             614525\n",
       "smell            614525\n",
       "taste            614525\n",
       "feel             614525\n",
       "overall          614525\n",
       "score            614525\n",
       "name_brewery     614525\n",
       "city             614525\n",
       "notes_brewery    614525\n",
       "types            614525\n",
       "dtype: int64"
      ]
     },
     "execution_count": 67,
     "metadata": {},
     "output_type": "execute_result"
    }
   ],
   "source": [
    "# impute state values from city_state_mapping to all records if state is null\n",
    "beer_reviews_with_breweries['state'] = beer_reviews_with_breweries.apply(\n",
    "    lambda row: (\n",
    "        city_state_mapping.get(row['city'], row['state'])\n",
    "        if pd.isna(row['state']) else row['state']\n",
    "    ),\n",
    "    axis=1\n",
    ")\n",
    "beer_reviews_with_breweries.count()\n",
    "\n",
    "# drop any redundant columns\n",
    "final_beers_reviews_breweries = beer_reviews_with_breweries.drop(columns=['retired', 'brewery_id'])\n",
    "final_beers_reviews_breweries.count()"
   ]
  },
  {
   "cell_type": "markdown",
   "id": "e2fb7772-09a6-4f1c-9448-495af1e67335",
   "metadata": {},
   "source": [
    "---"
   ]
  },
  {
   "cell_type": "markdown",
   "id": "31f65fa3-5fae-47ca-b447-be1e4f10f548",
   "metadata": {},
   "source": [
    "### Exporting the Final Dataset\n",
    "\n",
    "The fully cleaned and enriched dataset was exported to a CSV file named `final_beers_reviews_breweries.csv` for reuse in modeling pipelines or external applications.\n",
    "\n",
    "- **Data Structure**: The saved dataset includes 21 features per record, combining beer attributes, user reviews, and brewery information.\n",
    "- **Verification**: A sample was reloaded from the CSV file and displayed to confirm successful export. The sample includes entries for the beer *Older Viscosity*, a highly rated American Imperial Stout brewed by *Port Brewing* in San Marcos, CA.\n",
    "\n",
    "This finalized dataset is now ready to be used in model training, evaluation, and hybrid recommendation system development.\n"
   ]
  },
  {
   "cell_type": "code",
   "execution_count": 70,
   "id": "4b912637-c80e-4c37-830f-44994f2a5d59",
   "metadata": {},
   "outputs": [
    {
     "name": "stdout",
     "output_type": "stream",
     "text": [
      "\f",
      "inal Data Sample:\n",
      "              name state country                    style availability   abv  \\\n",
      "0  Older Viscosity    CA      US  American Imperial Stout     Rotating  12.0   \n",
      "1  Older Viscosity    CA      US  American Imperial Stout     Rotating  12.0   \n",
      "2  Older Viscosity    CA      US  American Imperial Stout     Rotating  12.0   \n",
      "3  Older Viscosity    CA      US  American Imperial Stout     Rotating  12.0   \n",
      "4  Older Viscosity    CA      US  American Imperial Stout     Rotating  12.0   \n",
      "\n",
      "                                               notes  beer_id     username  \\\n",
      "0  Imperial Stout aged for 12 months in new bourb...    34094        Sazz9   \n",
      "1  Imperial Stout aged for 12 months in new bourb...    34094  Amguerra305   \n",
      "2  Imperial Stout aged for 12 months in new bourb...    34094      TheGent   \n",
      "3  Imperial Stout aged for 12 months in new bourb...    34094         bobv   \n",
      "4  Imperial Stout aged for 12 months in new bourb...    34094      Tony210   \n",
      "\n",
      "         date  ...  look  smell  taste  feel  overall  score  name_brewery  \\\n",
      "0  2015-09-02  ...  4.50   4.50   4.25  4.50     4.25   4.35  Port Brewing   \n",
      "1  2017-06-21  ...  4.75   4.00   4.50  4.25     4.50   4.37  Port Brewing   \n",
      "2  2018-04-07  ...  4.00   4.50   4.50  3.75     4.50   4.40  Port Brewing   \n",
      "3  2018-04-03  ...  3.75   4.50   4.50  3.75     4.25   4.33  Port Brewing   \n",
      "4  2018-01-29  ...  4.50   4.25   4.50  4.50     4.50   4.44  Port Brewing   \n",
      "\n",
      "         city                                      notes_brewery  \\\n",
      "0  San Marcos  Owned by Port Brewing Company. Not affiliated ...   \n",
      "1  San Marcos  Owned by Port Brewing Company. Not affiliated ...   \n",
      "2  San Marcos  Owned by Port Brewing Company. Not affiliated ...   \n",
      "3  San Marcos  Owned by Port Brewing Company. Not affiliated ...   \n",
      "4  San Marcos  Owned by Port Brewing Company. Not affiliated ...   \n",
      "\n",
      "                      types  \n",
      "0  Brewery, Bar, Beer-to-go  \n",
      "1  Brewery, Bar, Beer-to-go  \n",
      "2  Brewery, Bar, Beer-to-go  \n",
      "3  Brewery, Bar, Beer-to-go  \n",
      "4  Brewery, Bar, Beer-to-go  \n",
      "\n",
      "[5 rows x 21 columns]\n"
     ]
    }
   ],
   "source": [
    "final_beers_reviews_breweries.to_csv('final_beers_reviews_breweries.csv', index=False)\n",
    "\n",
    "try:\n",
    "    final = pd.read_csv('final_beers_reviews_breweries.csv')\n",
    "    print(\"\\final Data Sample:\")\n",
    "    print(final.head())\n",
    "except Exception as e:\n",
    "    print(f\"Error loading reviews.csv: {e}\")"
   ]
  },
  {
   "cell_type": "markdown",
   "id": "4ef0b4bc-0234-4b01-854c-6062bf3b89cf",
   "metadata": {},
   "source": [
    "---"
   ]
  },
  {
   "cell_type": "markdown",
   "id": "9be27462-7fe1-4908-85c6-6e80254969c1",
   "metadata": {},
   "source": [
    "### Final Dataset Validation\n",
    "\n",
    "After saving and reloading the processed dataset from `final_beers_reviews_breweries.csv`, a comprehensive integrity check was performed to confirm data quality.\n",
    "\n",
    "#### Dataset Overview:\n",
    "- The dataset contains **614,525 entries** and **21 columns**, including beer characteristics, user review scores, and brewery metadata.\n",
    "- All data types are correctly inferred: numeric columns (e.g., `abv`, `score`), categorical fields (e.g., `style`, `types`), and text columns (e.g., `notes`, `text`).\n",
    "\n",
    "#### Statistical Summary:\n",
    "- **Alcohol by Volume (ABV)**: Ranges from 2.5% to 18%, with a mean of approximately 7.58%.\n",
    "- **Review Scores**: Tasting attributes (`look`, `smell`, `taste`, `feel`, `overall`) all average close to **4.0**, with `score` showing a similar central tendency and mild right skew.\n",
    "- **Beer ID Range**: Spans from 6 to 148,052, confirming diverse beer entries across the dataset.\n",
    "\n",
    "#### Completeness:\n",
    "- **No missing values** are present across any columns, confirming that imputation and data integration steps were successfully executed.\n",
    "\n",
    "This final validation confirms the dataset is clean, comprehensive, and ready for model training and evaluation.\n"
   ]
  },
  {
   "cell_type": "code",
   "execution_count": 71,
   "id": "8e026b27-19f2-409b-878e-a1edd2799179",
   "metadata": {},
   "outputs": [
    {
     "name": "stdout",
     "output_type": "stream",
     "text": [
      "Dataset Overview:\n",
      "<class 'pandas.core.frame.DataFrame'>\n",
      "RangeIndex: 614525 entries, 0 to 614524\n",
      "Data columns (total 21 columns):\n",
      " #   Column         Non-Null Count   Dtype  \n",
      "---  ------         --------------   -----  \n",
      " 0   name           614525 non-null  object \n",
      " 1   state          614525 non-null  object \n",
      " 2   country        614525 non-null  object \n",
      " 3   style          614525 non-null  object \n",
      " 4   availability   614525 non-null  object \n",
      " 5   abv            614525 non-null  float64\n",
      " 6   notes          614525 non-null  object \n",
      " 7   beer_id        614525 non-null  int64  \n",
      " 8   username       614525 non-null  object \n",
      " 9   date           614525 non-null  object \n",
      " 10  text           614525 non-null  object \n",
      " 11  look           614525 non-null  float64\n",
      " 12  smell          614525 non-null  float64\n",
      " 13  taste          614525 non-null  float64\n",
      " 14  feel           614525 non-null  float64\n",
      " 15  overall        614525 non-null  float64\n",
      " 16  score          614525 non-null  float64\n",
      " 17  name_brewery   614525 non-null  object \n",
      " 18  city           614525 non-null  object \n",
      " 19  notes_brewery  614525 non-null  object \n",
      " 20  types          614525 non-null  object \n",
      "dtypes: float64(7), int64(1), object(13)\n",
      "memory usage: 98.5+ MB\n",
      "None\n",
      "\n",
      "Summary Statistics:\n",
      "                 abv        beer_id           look          smell  \\\n",
      "count  614525.000000  614525.000000  614525.000000  614525.000000   \n",
      "mean        7.582153   13682.230450       4.018448       3.944073   \n",
      "std         2.353999   20065.492805       0.569035       0.637930   \n",
      "min         2.500000       6.000000       1.000000       1.000000   \n",
      "25%         5.600000     689.000000       3.750000       3.500000   \n",
      "50%         7.200000    2137.000000       4.000000       4.000000   \n",
      "75%         9.100000   21300.000000       4.500000       4.500000   \n",
      "max        18.000000  148052.000000       5.000000       5.000000   \n",
      "\n",
      "               taste           feel        overall          score  \n",
      "count  614525.000000  614525.000000  614525.000000  614525.000000  \n",
      "mean        4.020712       3.953997       4.004074       3.992679  \n",
      "std         0.653435       0.620201       0.633966       0.560614  \n",
      "min         1.000000       1.000000       1.000000       1.000000  \n",
      "25%         3.750000       3.500000       3.750000       3.750000  \n",
      "50%         4.000000       4.000000       4.000000       4.080000  \n",
      "75%         4.500000       4.500000       4.500000       4.350000  \n",
      "max         5.000000       5.000000       5.000000       5.000000  \n",
      "\n",
      "Missing Values:\n",
      "name             0\n",
      "state            0\n",
      "country          0\n",
      "style            0\n",
      "availability     0\n",
      "abv              0\n",
      "notes            0\n",
      "beer_id          0\n",
      "username         0\n",
      "date             0\n",
      "text             0\n",
      "look             0\n",
      "smell            0\n",
      "taste            0\n",
      "feel             0\n",
      "overall          0\n",
      "score            0\n",
      "name_brewery     0\n",
      "city             0\n",
      "notes_brewery    0\n",
      "types            0\n",
      "dtype: int64\n"
     ]
    }
   ],
   "source": [
    "# Basic Data Info\n",
    "print(\"Dataset Overview:\")\n",
    "print(final.info())\n",
    "\n",
    "print(\"\\nSummary Statistics:\")\n",
    "print(final.describe())\n",
    "\n",
    "print(\"\\nMissing Values:\")\n",
    "print(final.isnull().sum())"
   ]
  },
  {
   "cell_type": "markdown",
   "id": "990648fb-0eea-4946-9f7a-28bff99ea561",
   "metadata": {},
   "source": [
    "---"
   ]
  },
  {
   "cell_type": "markdown",
   "id": "adf0049c-14fc-494d-96c9-2e864bdab745",
   "metadata": {},
   "source": [
    "## Conclusion of Data Exploration\n",
    "\n",
    "The data exploration and preprocessing phase successfully prepared a robust and high-quality dataset for downstream modeling tasks. Key accomplishments include:\n",
    "\n",
    "- Cleaning and standardizing multiple datasets (`beers.csv`, `breweries.csv`, `reviews.csv`) through deduplication, null handling, and feature encoding.\n",
    "- Merging beer, review, and brewery metadata into a single, comprehensive dataset.\n",
    "- Imputing missing geographic fields and filtering for high-quality, high-density user-review data.\n",
    "- Identifying key statistical patterns and ensuring complete data coverage with no missing values.\n",
    "\n",
    "With a validated and enriched dataset of over **614,000 reviews**, the groundwork is now complete for developing and evaluating various recommender system models, including collaborative filtering and content-based approaches.\n"
   ]
  }
 ],
 "metadata": {
  "kernelspec": {
   "display_name": "Python 3 (ipykernel)",
   "language": "python",
   "name": "python3"
  },
  "language_info": {
   "codemirror_mode": {
    "name": "ipython",
    "version": 3
   },
   "file_extension": ".py",
   "mimetype": "text/x-python",
   "name": "python",
   "nbconvert_exporter": "python",
   "pygments_lexer": "ipython3",
   "version": "3.8.20"
  }
 },
 "nbformat": 4,
 "nbformat_minor": 5
}
