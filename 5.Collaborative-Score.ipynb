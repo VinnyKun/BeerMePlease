{
 "cells": [
  {
   "cell_type": "markdown",
   "id": "8596f103-0541-47b9-8f30-2ad2f76aa3cf",
   "metadata": {},
   "source": [
    "# Collaborative Filtering – Score-Only Model\n",
    "\n",
    "This notebook begins the modeling phase of the beer recommender system by implementing a basic collaborative filtering approach based solely on user-item interactions, specifically the review `score`.\n",
    "\n",
    "## Objective\n",
    "\n",
    "The primary goal of this stage is to:\n",
    "- Build a collaborative filtering model using **only user IDs and beer IDs**, along with their corresponding **review scores**.\n",
    "- Evaluate how well a latent factor model can learn user preferences and item characteristics using **implicit patterns in rating behavior**.\n",
    "- Establish a baseline model to be enhanced in future iterations with additional beer metadata (e.g., ABV, style, availability) for hybrid recommendations.\n",
    "\n",
    "## Methodology\n",
    "\n",
    "- Construct a **user-beer matrix** from the cleaned review data.\n",
    "- Train a basic **matrix factorization model**\n",
    "- Train a **matrix factorization model** with non-linearity\n",
    "- Train a **neural matrix factorization model** \n",
    "- Evaluate the model using metrics such as RMSE and top-k recommendation quality.\n",
    "\n",
    "This foundational model serves as a benchmark against which hybrid models incorporating beer content features will be compared in later notebooks.\n"
   ]
  },
  {
   "cell_type": "markdown",
   "id": "1ed9197f-1659-47e6-a76d-ce782bc28fb4",
   "metadata": {},
   "source": [
    "---"
   ]
  },
  {
   "cell_type": "code",
   "execution_count": 1,
   "id": "bab2ced6-3b2a-4a2f-aa5e-62cad41af3ab",
   "metadata": {},
   "outputs": [
    {
     "name": "stdout",
     "output_type": "stream",
     "text": [
      "Using device: mps\n",
      "Running on Apple Silicon GPU via MPS\n"
     ]
    }
   ],
   "source": [
    "import torch\n",
    "import torch.nn as nn\n",
    "import torch.nn.functional as F\n",
    "\n",
    "device = torch.device(\n",
    "    \"cuda\" if torch.cuda.is_available()\n",
    "    else \"mps\"  if torch.backends.mps.is_available()\n",
    "    else \"cpu\"\n",
    ")\n",
    "\n",
    "print(f\"Using device: {device}\")\n",
    "\n",
    "if device.type == \"cuda\":\n",
    "    idx = device.index or 0\n",
    "    print(\"GPU name: \", torch.cuda.get_device_name(idx))\n",
    "elif device.type == \"mps\":\n",
    "    print(\"Running on Apple Silicon GPU via MPS\")\n",
    "else:\n",
    "    print(\"Running on CPU\")\n",
    "\n",
    "# Loading Dataset\n",
    "\n",
    "import pandas as pd\n",
    "\n",
    "try:\n",
    "    df = pd.read_csv('final_beers_reviews_breweries.csv')\n",
    "except Exception as e:\n",
    "    print(f\"Error loading reviews.csv: {e}\")"
   ]
  },
  {
   "cell_type": "markdown",
   "id": "e27abdbd-60bf-49c9-8e87-d813629bf87f",
   "metadata": {},
   "source": [
    "---"
   ]
  },
  {
   "cell_type": "code",
   "execution_count": 2,
   "id": "1afc075d-e734-450b-b928-100cd4cc8ad3",
   "metadata": {},
   "outputs": [
    {
     "data": {
      "text/plain": [
       "name             614525\n",
       "state            614525\n",
       "country          614525\n",
       "style            614525\n",
       "availability     614525\n",
       "abv              614525\n",
       "notes            614525\n",
       "beer_id          614525\n",
       "username         614525\n",
       "date             614525\n",
       "text             614525\n",
       "look             614525\n",
       "smell            614525\n",
       "taste            614525\n",
       "feel             614525\n",
       "overall          614525\n",
       "score            614525\n",
       "name_brewery     614525\n",
       "city             614525\n",
       "notes_brewery    614525\n",
       "types            614525\n",
       "dtype: int64"
      ]
     },
     "execution_count": 2,
     "metadata": {},
     "output_type": "execute_result"
    }
   ],
   "source": [
    "df.count()"
   ]
  },
  {
   "cell_type": "markdown",
   "id": "1985305f-2620-4617-8ecb-fe367a7977c4",
   "metadata": {},
   "source": [
    "### Feature Normalization\n",
    "\n",
    "To prepare the rating-related attributes for collaborative filtering models, the following review features were scaled to a [0, 1] range using **MinMax normalization**:\n",
    "- `look`\n",
    "- `smell`\n",
    "- `taste`\n",
    "- `feel`\n",
    "- `overall`\n",
    "- `score`\n",
    "\n",
    "This normalization ensures that all rating dimensions contribute equally during training, preventing attributes with larger original scales from disproportionately influencing the learning process.\n",
    "\n",
    "#### Post-Normalization Summary:\n",
    "- All normalized features have a **minimum of 0.0** and a **maximum of 1.0**.\n",
    "- The distribution remains centered around **0.75**, reflecting the original skew of the review scores toward higher ratings.\n",
    "\n",
    "This step sets a consistent numerical foundation for training latent factor models such as matrix factorization or embedding-based recommenders.\n"
   ]
  },
  {
   "cell_type": "code",
   "execution_count": 3,
   "id": "74c4c69b-8038-4c44-9b58-3c6542542963",
   "metadata": {},
   "outputs": [
    {
     "data": {
      "text/html": [
       "<div>\n",
       "<style scoped>\n",
       "    .dataframe tbody tr th:only-of-type {\n",
       "        vertical-align: middle;\n",
       "    }\n",
       "\n",
       "    .dataframe tbody tr th {\n",
       "        vertical-align: top;\n",
       "    }\n",
       "\n",
       "    .dataframe thead th {\n",
       "        text-align: right;\n",
       "    }\n",
       "</style>\n",
       "<table border=\"1\" class=\"dataframe\">\n",
       "  <thead>\n",
       "    <tr style=\"text-align: right;\">\n",
       "      <th></th>\n",
       "      <th>abv</th>\n",
       "      <th>beer_id</th>\n",
       "      <th>look</th>\n",
       "      <th>smell</th>\n",
       "      <th>taste</th>\n",
       "      <th>feel</th>\n",
       "      <th>overall</th>\n",
       "      <th>score</th>\n",
       "    </tr>\n",
       "  </thead>\n",
       "  <tbody>\n",
       "    <tr>\n",
       "      <th>count</th>\n",
       "      <td>614525.000000</td>\n",
       "      <td>614525.000000</td>\n",
       "      <td>614525.000000</td>\n",
       "      <td>614525.000000</td>\n",
       "      <td>614525.000000</td>\n",
       "      <td>614525.000000</td>\n",
       "      <td>614525.000000</td>\n",
       "      <td>614525.000000</td>\n",
       "    </tr>\n",
       "    <tr>\n",
       "      <th>mean</th>\n",
       "      <td>7.582153</td>\n",
       "      <td>13682.230450</td>\n",
       "      <td>0.754612</td>\n",
       "      <td>0.736018</td>\n",
       "      <td>0.755178</td>\n",
       "      <td>0.738499</td>\n",
       "      <td>0.751018</td>\n",
       "      <td>0.748170</td>\n",
       "    </tr>\n",
       "    <tr>\n",
       "      <th>std</th>\n",
       "      <td>2.353999</td>\n",
       "      <td>20065.492805</td>\n",
       "      <td>0.142259</td>\n",
       "      <td>0.159482</td>\n",
       "      <td>0.163359</td>\n",
       "      <td>0.155050</td>\n",
       "      <td>0.158492</td>\n",
       "      <td>0.140153</td>\n",
       "    </tr>\n",
       "    <tr>\n",
       "      <th>min</th>\n",
       "      <td>2.500000</td>\n",
       "      <td>6.000000</td>\n",
       "      <td>0.000000</td>\n",
       "      <td>0.000000</td>\n",
       "      <td>0.000000</td>\n",
       "      <td>0.000000</td>\n",
       "      <td>0.000000</td>\n",
       "      <td>0.000000</td>\n",
       "    </tr>\n",
       "    <tr>\n",
       "      <th>25%</th>\n",
       "      <td>5.600000</td>\n",
       "      <td>689.000000</td>\n",
       "      <td>0.687500</td>\n",
       "      <td>0.625000</td>\n",
       "      <td>0.687500</td>\n",
       "      <td>0.625000</td>\n",
       "      <td>0.687500</td>\n",
       "      <td>0.687500</td>\n",
       "    </tr>\n",
       "    <tr>\n",
       "      <th>50%</th>\n",
       "      <td>7.200000</td>\n",
       "      <td>2137.000000</td>\n",
       "      <td>0.750000</td>\n",
       "      <td>0.750000</td>\n",
       "      <td>0.750000</td>\n",
       "      <td>0.750000</td>\n",
       "      <td>0.750000</td>\n",
       "      <td>0.770000</td>\n",
       "    </tr>\n",
       "    <tr>\n",
       "      <th>75%</th>\n",
       "      <td>9.100000</td>\n",
       "      <td>21300.000000</td>\n",
       "      <td>0.875000</td>\n",
       "      <td>0.875000</td>\n",
       "      <td>0.875000</td>\n",
       "      <td>0.875000</td>\n",
       "      <td>0.875000</td>\n",
       "      <td>0.837500</td>\n",
       "    </tr>\n",
       "    <tr>\n",
       "      <th>max</th>\n",
       "      <td>18.000000</td>\n",
       "      <td>148052.000000</td>\n",
       "      <td>1.000000</td>\n",
       "      <td>1.000000</td>\n",
       "      <td>1.000000</td>\n",
       "      <td>1.000000</td>\n",
       "      <td>1.000000</td>\n",
       "      <td>1.000000</td>\n",
       "    </tr>\n",
       "  </tbody>\n",
       "</table>\n",
       "</div>"
      ],
      "text/plain": [
       "                 abv        beer_id           look          smell  \\\n",
       "count  614525.000000  614525.000000  614525.000000  614525.000000   \n",
       "mean        7.582153   13682.230450       0.754612       0.736018   \n",
       "std         2.353999   20065.492805       0.142259       0.159482   \n",
       "min         2.500000       6.000000       0.000000       0.000000   \n",
       "25%         5.600000     689.000000       0.687500       0.625000   \n",
       "50%         7.200000    2137.000000       0.750000       0.750000   \n",
       "75%         9.100000   21300.000000       0.875000       0.875000   \n",
       "max        18.000000  148052.000000       1.000000       1.000000   \n",
       "\n",
       "               taste           feel        overall          score  \n",
       "count  614525.000000  614525.000000  614525.000000  614525.000000  \n",
       "mean        0.755178       0.738499       0.751018       0.748170  \n",
       "std         0.163359       0.155050       0.158492       0.140153  \n",
       "min         0.000000       0.000000       0.000000       0.000000  \n",
       "25%         0.687500       0.625000       0.687500       0.687500  \n",
       "50%         0.750000       0.750000       0.750000       0.770000  \n",
       "75%         0.875000       0.875000       0.875000       0.837500  \n",
       "max         1.000000       1.000000       1.000000       1.000000  "
      ]
     },
     "execution_count": 3,
     "metadata": {},
     "output_type": "execute_result"
    }
   ],
   "source": [
    "from sklearn.preprocessing import MinMaxScaler\n",
    "\n",
    "scaler = MinMaxScaler()\n",
    "df[['look', 'smell', 'taste', 'feel', 'overall', 'score']] = scaler.fit_transform(\n",
    "    df[[ 'look', 'smell', 'taste', 'feel', 'overall', 'score']]\n",
    ")\n",
    "df.describe()"
   ]
  },
  {
   "cell_type": "markdown",
   "id": "9ef40b9f-8f16-4828-92b8-b653c95d6f56",
   "metadata": {},
   "source": [
    "### User and Item Index Mapping\n",
    "\n",
    "To prepare the dataset for collaborative filtering with matrix-based models, each unique user and beer was assigned a numeric index:\n",
    "\n",
    "- **User Mapping**: `username` values were mapped to a new `userIndex` column using a unique integer for each user.\n",
    "- **Beer Mapping**: `beer_id` values were mapped to a `beerIndex` column similarly.\n",
    "\n",
    "This indexing allows for efficient embedding lookup during model training.\n",
    "\n",
    "- **Unique Users**: 15,894\n",
    "- **Unique Beers**: 500  \n",
    "  *(Note: This aligns with the earlier filtering to include only the top 500 most-reviewed beers.)*\n",
    "\n",
    "### Train-Validation Split\n",
    "\n",
    "The dataset was randomly split into:\n",
    "- **Training Set**: 80% (491,620 rows)\n",
    "- **Validation Set**: 20% (122,905 rows)\n",
    "\n",
    "This split enables model training and unbiased evaluation on held-out data before proceeding to test or production deployment.\n"
   ]
  },
  {
   "cell_type": "code",
   "execution_count": 4,
   "id": "571ad882-b35b-47f7-aa15-c3b23f249737",
   "metadata": {},
   "outputs": [
    {
     "name": "stdout",
     "output_type": "stream",
     "text": [
      "Number of unique users: 15894\n",
      "Number of unique beers: 500\n"
     ]
    }
   ],
   "source": [
    "from sklearn.model_selection import train_test_split\n",
    "\n",
    "# Create mapping dictionaries for users and beers\n",
    "users = df['username'].unique()\n",
    "userIndexDict = {user: idx for idx, user in enumerate(users)}\n",
    "\n",
    "beers = df['beer_id'].unique()\n",
    "beerIndexDict = {beer: idx for idx, beer in enumerate(beers)}\n",
    "\n",
    "# Map the original columns to new index columns\n",
    "df['userIndex'] = df['username'].map(userIndexDict)\n",
    "df['beerIndex'] = df['beer_id'].map(beerIndexDict)\n",
    "\n",
    "print(\"Number of unique users:\", len(userIndexDict))\n",
    "print(\"Number of unique beers:\", len(beerIndexDict))"
   ]
  },
  {
   "cell_type": "code",
   "execution_count": 5,
   "id": "7eee6d16-7c48-4050-99fb-f79c0b15838b",
   "metadata": {},
   "outputs": [
    {
     "name": "stdout",
     "output_type": "stream",
     "text": [
      "Training set shape: (491620, 23)\n",
      "Validation set shape: (122905, 23)\n"
     ]
    }
   ],
   "source": [
    "# Split the data (e.g., 80% training, 20% validation)\n",
    "trainDf, valDf = train_test_split(df, test_size=0.2, random_state=42)\n",
    "\n",
    "print(\"Training set shape:\", trainDf.shape)\n",
    "print(\"Validation set shape:\", valDf.shape)\n"
   ]
  },
  {
   "cell_type": "markdown",
   "id": "fb16dde0-5de1-495f-b1c5-107053c9afae",
   "metadata": {},
   "source": [
    "---"
   ]
  },
  {
   "cell_type": "markdown",
   "id": "e333bd4f-af86-4d44-a20e-9589a98297aa",
   "metadata": {},
   "source": [
    "### PyTorch Dataset and DataLoader Preparation\n",
    "\n",
    "To enable efficient training of the collaborative filtering model in PyTorch, a custom dataset class `BeerDataset` was implemented. This class wraps the training and validation DataFrames and provides:\n",
    "\n",
    "- **user**: Encoded user index (`userIndex`)\n",
    "- **beer**: Encoded item index (`beerIndex`)\n",
    "- **score**: Normalized review score as the target\n",
    "\n",
    "Each sample is returned as a dictionary containing tensors for user, beer, and score, making it suitable for mini-batch training.\n",
    "\n",
    "#### DataLoaders\n",
    "The dataset is loaded into PyTorch `DataLoader`s:\n",
    "- **Training Loader** (`trainLoader`): Uses a batch size of 256 and shuffling enabled to randomize batches during training.\n",
    "- **Validation Loader** (`valLoader`): Uses the same batch size but no shuffling, preserving the order for evaluation.\n",
    "\n",
    "These components prepare the dataset for input into an embedding-based collaborative filtering model that will learn latent user and beer representations from the interaction data.\n"
   ]
  },
  {
   "cell_type": "code",
   "execution_count": 6,
   "id": "bfc9e86b-746d-41bd-8307-28c23683161d",
   "metadata": {},
   "outputs": [],
   "source": [
    "import torch\n",
    "from torch.utils.data import Dataset\n",
    "\n",
    "class BeerDataset(Dataset):\n",
    "    def __init__(self, df):\n",
    "        self.user_ids = df['userIndex'].values\n",
    "        self.beer_ids = df['beerIndex'].values\n",
    "        self.scores = df['score'].values.astype('float32')\n",
    "    \n",
    "    def __len__(self):\n",
    "        return len(self.scores)\n",
    "    \n",
    "    def __getitem__(self, idx):\n",
    "        return {\n",
    "            'user': torch.tensor(self.user_ids[idx], dtype=torch.long),\n",
    "            'beer': torch.tensor(self.beer_ids[idx], dtype=torch.long),\n",
    "            'score': torch.tensor(self.scores[idx], dtype=torch.float)\n",
    "        }\n",
    "\n",
    "trainDataset = BeerDataset(trainDf)\n",
    "valDataset = BeerDataset(valDf)\n"
   ]
  },
  {
   "cell_type": "code",
   "execution_count": 7,
   "id": "25a73f07-694d-4b31-b695-abfe96f361db",
   "metadata": {},
   "outputs": [],
   "source": [
    "from torch.utils.data import DataLoader\n",
    "\n",
    "trainLoader = DataLoader(trainDataset, batch_size=256, shuffle=True)\n",
    "valLoader = DataLoader(valDataset, batch_size=256, shuffle=False)\n"
   ]
  },
  {
   "cell_type": "markdown",
   "id": "199de313-5437-4d4b-8485-be29749da5c2",
   "metadata": {},
   "source": [
    "### Model Architecture – Matrix Factorization Recommender\n",
    "\n",
    "This collaborative filtering model learns latent user and beer factors to predict normalized ratings via dot‐product interactions and bias terms.\n",
    "\n",
    "#### Key Components:\n",
    "\n",
    "- **Embedding Layers**  \n",
    "- **`user_embedding`**: Learns a $d$-dimensional vector $\\mathbf{e}_{u}$ for each user.  \n",
    "- **`beer_embedding`**: Learns a $d$-dimensional vector $\\mathbf{e}_{i}$ for each beer.  \n",
    "\n",
    "- **Bias Terms**  \n",
    "  - **`user_bias`** ($b_u$): captures each user’s baseline rating offset.  \n",
    "  - **`beer_bias`** ($b_i$): captures each beer’s baseline rating offset.  \n",
    "  - **`global_bias`** ($b$): a learnable scalar representing the overall average rating.  \n",
    "\n",
    "- **Initialization**  \n",
    "  - **Embeddings**: weights sampled from a normal distribution $\\mathcal{N}(0, 0.1)$ \n",
    "  - **Biases**: all bias terms initialized to 0  \n",
    "\n",
    "- **Prediction**  \n",
    "  - **Raw score**:  \n",
    "    $$r_{u,i} = \\mathbf{p}_u \\cdot \\mathbf{q}_i \\;+\\; b_u \\;+\\; b_i \\;+\\; b$$  \n",
    "  - **Clamped output**:  \n",
    "    $$\\hat{r}_{u,i} = \\mathrm{clamp}\\bigl(r_{u,i},\\,0,\\,1\\bigr)$$  \n",
    "  First computes the dot product of user and beer embeddings with bias terms, then clamps the result to \\([0,1]\\).  \n"
   ]
  },
  {
   "cell_type": "code",
   "execution_count": 8,
   "id": "b1390502-b7b0-4910-9107-75ae43ef0e13",
   "metadata": {},
   "outputs": [
    {
     "name": "stdout",
     "output_type": "stream",
     "text": [
      "global_bias () True\n",
      "user_embedding.weight (15894, 32) True\n",
      "beer_embedding.weight (500, 32) True\n",
      "user_bias.weight (15894, 1) True\n",
      "beer_bias.weight (500, 1) True\n"
     ]
    }
   ],
   "source": [
    "import torch.nn as nn\n",
    "\n",
    "class MF_Recommender(nn.Module):\n",
    "    def __init__(self, num_users, num_beers, embedding_dim=32):\n",
    "        super(MF_Recommender, self).__init__()\n",
    "        self.user_embedding = nn.Embedding(num_users, embedding_dim)\n",
    "        self.beer_embedding = nn.Embedding(num_beers, embedding_dim)\n",
    "        \n",
    "        self.user_bias = nn.Embedding(num_users, 1)\n",
    "        self.beer_bias = nn.Embedding(num_beers, 1)\n",
    "        self.global_bias = nn.Parameter(torch.tensor(0.0))\n",
    "\n",
    "        nn.init.normal_(self.user_embedding.weight, 0, 0.1)\n",
    "        nn.init.normal_(self.beer_embedding.weight, 0, 0.1)\n",
    "        nn.init.constant_(self.user_bias.weight, 0.0)\n",
    "        nn.init.constant_(self.beer_bias.weight, 0.0)\n",
    "    \n",
    "    def forward(self, user, beer):\n",
    "        user_emb = self.user_embedding(user)   # Shape: (batch_size, embedding_dim)\n",
    "        beer_emb = self.beer_embedding(beer)     # Shape: (batch_size, embedding_dim)\n",
    "        \n",
    "        rating = (user_emb * beer_emb).sum(dim=1)\n",
    "        u_bias = self.user_bias(user).squeeze(1)     # (batch,)\n",
    "        b_bias = self.beer_bias(beer).squeeze(1)     # (batch,)\n",
    "        \n",
    "        rating = rating + u_bias + b_bias + self.global_bias\n",
    "        rating = rating.clamp(min=0.0, max=1.0)\n",
    "        return rating\n",
    "\n",
    "# Initialize model parameters\n",
    "userCount = len(userIndexDict)\n",
    "beerCount = len(beerIndexDict)\n",
    "mf_model = MF_Recommender(userCount, beerCount, embedding_dim=32)\n",
    "mf_model = mf_model.to(device)\n",
    "\n",
    "for name, param in mf_model.named_parameters():\n",
    "    print(name, tuple(param.shape), param.requires_grad)"
   ]
  },
  {
   "cell_type": "markdown",
   "id": "b7ad3857-1131-42b6-a77f-f28ce5a755c6",
   "metadata": {},
   "source": [
    "---"
   ]
  },
  {
   "cell_type": "markdown",
   "id": "cd428c2b-249c-4ba9-ad89-772f92d44c58",
   "metadata": {},
   "source": [
    "### Model Architecture – Nonlinear Matrix Factorization Recommender\n",
    "\n",
    "This collaborative filtering model enhances standard MF by passing the concatenated user and beer embeddings through a two-layer MLP to capture non‐linear interactions.\n",
    "\n",
    "#### Key Components:\n",
    "\n",
    "- **Embedding Layers**  \n",
    "  - **`user_embedding`**: Learns a $d$-dimensional vector $\\mathbf{e}_{u}$ for each user.  \n",
    "  - **`beer_embedding`**: Learns a $d$-dimensional vector $\\mathbf{e}_{i}$ for each beer.\n",
    "\n",
    "- **Bias Terms**  \n",
    "  - **`user_bias`** ($b_u$): captures each user’s baseline rating offset.  \n",
    "  - **`beer_bias`** ($b_i$): captures each beer’s baseline rating offset.\n",
    "\n",
    "- **MLP Layers**  \n",
    "  - **`fc1`**: Linear layer mapping $2d \\to h$, followed by ReLU activation, where $h$ is the hidden dimension.  \n",
    "  - **`fc2`**: Linear layer mapping $h \\to 1$, producing the base interaction score.\n",
    "\n",
    "- **Initialization**  \n",
    "  - **Embeddings**: weights sampled from a normal distribution $\\mathcal{N}(0, 0.1)$  \n",
    "  - **Biases**: all bias terms initialized to 0.\n",
    "  - **Model Dimensions**: `embedding_dim=32`, `hidden_dim=64`  \n",
    "\n",
    "- **Forward Pass**  \n",
    "  1. **Concatenate embeddings**:  \n",
    "     $$x = [\\,\\mathbf{e}_{u} \\,\\|\\, \\mathbf{e}_{i}\\,]$$  \n",
    "  2. **Hidden activation**:  \n",
    "     $$\\mathbf{h} = \\mathrm{ReLU}\\bigl(\\mathrm{fc1}(x)\\bigr)$$  \n",
    "  3. **Base score**:  \n",
    "     $$r_{u,i} = \\mathrm{fc2}(\\mathbf{h}) + b_u + b_i$$  \n",
    "  4. **Clamped output**:  \n",
    "     $$\\hat{r}_{u,i} = \\mathrm{clamp}\\bigl(r_{u,i},\\,0,\\,1\\bigr)$$  \n"
   ]
  },
  {
   "cell_type": "code",
   "execution_count": 9,
   "id": "1f87a181-fe03-4ce8-a929-723e30f18c7e",
   "metadata": {},
   "outputs": [
    {
     "name": "stdout",
     "output_type": "stream",
     "text": [
      "user_embedding.weight (15894, 32) True\n",
      "beer_embedding.weight (500, 32) True\n",
      "user_bias.weight (15894, 1) True\n",
      "beer_bias.weight (500, 1) True\n",
      "fc1.weight (64, 64) True\n",
      "fc1.bias (64,) True\n",
      "fc2.weight (1, 64) True\n",
      "fc2.bias (1,) True\n"
     ]
    }
   ],
   "source": [
    "class NonLinear_MF_Recommender(nn.Module):\n",
    "    def __init__(self, num_users, num_beers, embedding_dim=32, hidden_dim=64):\n",
    "        super(NonLinear_MF_Recommender, self).__init__()\n",
    "        self.user_embedding = nn.Embedding(num_users, embedding_dim)\n",
    "        self.beer_embedding = nn.Embedding(num_beers, embedding_dim)\n",
    "        \n",
    "        self.user_bias = nn.Embedding(num_users, 1)\n",
    "        self.beer_bias = nn.Embedding(num_beers, 1)\n",
    "\n",
    "        self.fc1 = nn.Linear(2*embedding_dim, hidden_dim, bias=True)\n",
    "        self.fc2 = nn.Linear(hidden_dim, 1, bias=True)\n",
    "\n",
    "        nn.init.normal_(self.user_embedding.weight, 0, 0.1)\n",
    "        nn.init.normal_(self.beer_embedding.weight, 0, 0.1)\n",
    "        nn.init.constant_(self.user_bias.weight, 0.0)\n",
    "        nn.init.constant_(self.beer_bias.weight, 0.0)\n",
    "    \n",
    "    def forward(self, user, beer):\n",
    "        user_emb = self.user_embedding(user)   # Shape: (batch_size, embedding_dim)\n",
    "        beer_emb = self.beer_embedding(beer)     # Shape: (batch_size, embedding_dim)\n",
    "\n",
    "        x = torch.cat([user_emb, beer_emb], dim=1)\n",
    "        h = torch.relu(self.fc1(x))   \n",
    "        rating = self.fc2(h).squeeze(1)\n",
    "        \n",
    "        u_bias = self.user_bias(user).squeeze(1)     # (batch,)\n",
    "        b_bias = self.beer_bias(beer).squeeze(1)     # (batch,)\n",
    "        \n",
    "        rating = rating + u_bias + b_bias\n",
    "        rating = rating.clamp(min=0.0, max=1.0)\n",
    "        return rating\n",
    "\n",
    "nonlinear_mf_model = NonLinear_MF_Recommender(userCount, beerCount)\n",
    "nonlinear_mf_model = nonlinear_mf_model.to(device)\n",
    "\n",
    "for name, param in nonlinear_mf_model.named_parameters():\n",
    "    print(name, tuple(param.shape), param.requires_grad)"
   ]
  },
  {
   "cell_type": "markdown",
   "id": "2a1eb768-8f74-4aed-aa81-d0a2480020e0",
   "metadata": {},
   "source": [
    "---"
   ]
  },
  {
   "cell_type": "markdown",
   "id": "7f20d416-a185-4121-9830-04a24c350595",
   "metadata": {},
   "source": [
    "### Model Architecture – Neural Matrix Factorization (NeuMF) Recommender\n",
    "\n",
    "This hybrid model combines a linear Generalized Matrix Factorization(GMF) branch with a non-linear MLP branch to capture both simple and complex user–item interactions.\n",
    "\n",
    "#### Key Components:\n",
    "\n",
    "- **GMF Branch**  \n",
    "  - `gmf_user_embedding`: 64-dimensional user embeddings  \n",
    "  - `gmf_beer_embedding`: 64-dimensional beer embeddings  \n",
    "\n",
    "- **MLP Branch**  \n",
    "  - `mlp_user_embedding`: 64-dimensional user embeddings  \n",
    "  - `mlp_beer_embedding`: 64-dimensional beer embeddings  \n",
    "  - **MLP Layers:**  \n",
    "    - **Input:** concatenated user & beer embeddings (128 dims)  \n",
    "    - **Hidden dims:** 128 → 64 → 32 → 16  \n",
    "    - **Activation:** ReLU  \n",
    "    - **Dropout:** 20%  \n",
    "\n",
    "- **Bias Terms**  \n",
    "  - `user_bias` ($b_u$) and `beer_bias` ($b_i$): per-user and per-beer offsets  \n",
    "\n",
    "- **Fusion & Prediction**  \n",
    "  - **Concatenate:** GMF output (64 dims) + MLP output (16 dims) → 80 dims  \n",
    "  - `predict_layer`: Linear(80 → 1)  \n",
    "  - **Add biases** and **clamp** to [0,1]  \n",
    "\n",
    "- **Initialization**  \n",
    "  - **Embeddings:** weights sampled from a normal distribution $\\mathcal{N}(0, 0.1)$  \n",
    "  - **Biases:** initialized to 0  \n",
    "\n",
    "#### Forward Pass Steps:\n",
    "\n",
    "1. **GMF computation:**  \n",
    "   $$\\mathbf{g}_{u,i} = \\mathbf{e}_u^{\\text{gmf}} \\odot \\mathbf{e}_i^{\\text{gmf}}$$  \n",
    "2. **MLP computation:**  \n",
    "   - Concatenate $\\mathbf{e}_u^{\\text{mlp}}$ and $\\mathbf{e}_i^{\\text{mlp}}$ (128 dims)  \n",
    "   - Pass through MLP:  \n",
    "     $$128 \\xrightarrow{\\text{ReLU+Dropout}}64 \\xrightarrow{\\text{ReLU+Dropout}}32 \\xrightarrow{\\text{ReLU+Dropout}}16$$  \n",
    "3. **Fusion:**  \n",
    "   Concatenate GMF (64) & MLP (16) → 80 dims → `predict_layer` → raw score  \n",
    "4. **Prediction:**  \n",
    "   $$r_{u,i} = \\text{raw\\_score} + b_u + b_i$$  \n",
    "   $$\\hat{r}_{u,i} = \\mathrm{clamp}(r_{u,i},\\,0,\\,1)$$  \n"
   ]
  },
  {
   "cell_type": "code",
   "execution_count": 19,
   "id": "8da1d715-371a-499d-b0e3-ed3a12fd8085",
   "metadata": {},
   "outputs": [
    {
     "name": "stdout",
     "output_type": "stream",
     "text": [
      "gmf_user_embedding.weight (15894, 32) True\n",
      "gmf_beer_embedding.weight (500, 32) True\n",
      "mlp_user_embedding.weight (15894, 32) True\n",
      "mlp_beer_embedding.weight (500, 32) True\n",
      "user_bias.weight (15894, 1) True\n",
      "beer_bias.weight (500, 1) True\n",
      "mlp.0.weight (64, 64) True\n",
      "mlp.0.bias (64,) True\n",
      "mlp.3.weight (32, 64) True\n",
      "mlp.3.bias (32,) True\n",
      "predict_layer.weight (1, 64) True\n",
      "predict_layer.bias (1,) True\n"
     ]
    }
   ],
   "source": [
    "class NeuMF_Recommender(nn.Module):\n",
    "    def __init__(self,num_users, num_beers, gmf_dim = 32, mlp_dim = 32, mlp_layers = [64, 32]):\n",
    "        super(NeuMF_Recommender, self).__init__()\n",
    "        self.gmf_user_embedding = nn.Embedding(num_users, gmf_dim)\n",
    "        self.gmf_beer_embedding = nn.Embedding(num_beers, gmf_dim)\n",
    "\n",
    "        self.mlp_user_embedding = nn.Embedding(num_users, mlp_dim)\n",
    "        self.mlp_beer_embedding = nn.Embedding(num_beers, mlp_dim)\n",
    "\n",
    "        self.user_bias = nn.Embedding(num_users, 1)\n",
    "        self.beer_bias = nn.Embedding(num_beers, 1)\n",
    "\n",
    "        mlp_modules = []\n",
    "        input_size = 2 * mlp_dim\n",
    "        for h in mlp_layers:\n",
    "            mlp_modules += [nn.Linear(input_size, h), nn.ReLU(), nn.Dropout(0.2)]\n",
    "            input_size = h\n",
    "        self.mlp = nn.Sequential(*mlp_modules)\n",
    "\n",
    "        final_dim = gmf_dim + mlp_layers[-1]\n",
    "        self.predict_layer = nn.Linear(final_dim, 1, bias=True)\n",
    "\n",
    "        # — initialize weights & biases —\n",
    "        nn.init.normal_(self.gmf_user_embedding.weight,  0, 0.1)\n",
    "        nn.init.normal_(self.gmf_beer_embedding.weight,  0, 0.1)\n",
    "        nn.init.normal_(self.mlp_user_embedding.weight,  0, 0.1)\n",
    "        nn.init.normal_(self.mlp_beer_embedding.weight,  0, 0.1)\n",
    "        nn.init.constant_(self.user_bias.weight, 0.0)\n",
    "        nn.init.constant_(self.beer_bias.weight, 0.0)\n",
    "\n",
    "    def forward(self, user, beer):\n",
    "        gmf_user = self.gmf_user_embedding(user)\n",
    "        gmf_beer = self.gmf_beer_embedding(beer)\n",
    "        gmf_out = gmf_user * gmf_beer  # (batch, gmf_dim)\n",
    "\n",
    "        mlp_user = self.mlp_user_embedding(user)\n",
    "        mlp_beer = self.mlp_beer_embedding(beer)\n",
    "        mlp_in = torch.cat([mlp_user, mlp_beer], dim=1)\n",
    "        mlp_out = self.mlp(mlp_in)  # (batch, mlp_layers[-1])\n",
    "\n",
    "        # Fuse branches\n",
    "        x = torch.cat([gmf_out, mlp_out], dim=1)  # (batch, final_dim)\n",
    "        out = self.predict_layer(x).squeeze(1) \n",
    "\n",
    "        user_bias = self.user_bias(user).squeeze(1)\n",
    "        beer_bias = self.beer_bias(beer).squeeze(1)\n",
    "        \n",
    "        rating = out + user_bias + beer_bias \n",
    "        rating = rating.clamp(min=0.0, max=1.0)\n",
    "        \n",
    "        return rating\n",
    "        \n",
    "neu_mf_model = NeuMF_Recommender(userCount, beerCount, gmf_dim = 32, mlp_dim = 32, mlp_layers=[ 64, 32])\n",
    "neu_mf_model = neu_mf_model.to(device)\n",
    "\n",
    "for name, param in neu_mf_model.named_parameters():\n",
    "    print(name, tuple(param.shape), param.requires_grad)"
   ]
  },
  {
   "cell_type": "markdown",
   "id": "a8e2a6b8-49cd-43aa-91d5-963cc4ddc665",
   "metadata": {},
   "source": [
    "---"
   ]
  },
  {
   "cell_type": "markdown",
   "id": "8376975d-b0d0-4b43-ae8f-32483eabf563",
   "metadata": {},
   "source": [
    "### Training Utility – `trainModel`\n",
    "\n",
    "Encapsulates the training loop for collaborative filtering models using MSE loss and the Adam optimizer.\n",
    "\n",
    "#### Key Parameters\n",
    "\n",
    "- **`model`**: the PyTorch module to train  \n",
    "- **`lr`** (default = 1e-3): learning rate for Adam  \n",
    "- **`weight_decay`** (default = 1e-5): L2 regularization strength  \n",
    "- **`num_epochs`** (default = 30): total training epochs  \n",
    "\n",
    "#### Workflow\n",
    "\n",
    "1. **Setup**  \n",
    "   - Instantiate `criterion = nn.MSELoss()`  \n",
    "   - Instantiate `optimizer = optim.Adam(model.parameters(), lr=lr, weight_decay=weight_decay)`  \n",
    "\n",
    "2. **Epoch Loop**  \n",
    "   - For each epoch:  \n",
    "     - Switch model to training mode (`model.train()`)  \n",
    "     - Iterate batches from `trainLoader`:  \n",
    "       - Move `user`, `beer`, and `score` to `device`  \n",
    "       - Zero gradients, compute `predictions = model(user, beer)`, compute `loss = criterion(predictions, score)`, backpropagate and update parameters  \n",
    "       - Accumulate `loss.item()`  \n",
    "     - Compute and print average epoch loss  \n",
    "\n",
    "3. **Visualization**  \n",
    "   - Plot the epoch-wise loss curve with `matplotlib`  \n",
    "\n",
    "This function prints per-epoch training loss and displays a loss-vs-epoch plot for convergence monitoring.  \n"
   ]
  },
  {
   "cell_type": "code",
   "execution_count": 13,
   "id": "71c8fade-737f-493e-b8ed-70a7ab0707cf",
   "metadata": {},
   "outputs": [],
   "source": [
    "import torch.optim as optim\n",
    "\n",
    "def trainModel(model, lr = 1e-3, weight_decay = 1e-5, num_epochs = 30):\n",
    "    criterion = nn.MSELoss()\n",
    "    optimizer = optim.Adam(model.parameters(), lr=lr, weight_decay=weight_decay)\n",
    "    \n",
    "    numEpochs = num_epochs  # Adjust as needed\n",
    "    losses = [] #added to store avg loss per epoch\n",
    "    \n",
    "    for epoch in range(numEpochs):\n",
    "        model.train()\n",
    "        totalLoss = 0.0\n",
    "        for batch in trainLoader:\n",
    "            user = batch['user'].to(device)\n",
    "            beer = batch['beer'].to(device)\n",
    "            rating = batch['score'].to(device)\n",
    "    \n",
    "            optimizer.zero_grad()\n",
    "            predictions = model(user, beer)\n",
    "            loss = criterion(predictions, rating)\n",
    "            loss.backward()\n",
    "            optimizer.step()\n",
    "            \n",
    "            totalLoss += loss.item()\n",
    "        \n",
    "        avgLoss = totalLoss / len(trainLoader)\n",
    "        losses.append(avgLoss)\n",
    "        print(f\"Epoch {epoch+1}/{numEpochs}, Loss: {avgLoss:.4f}\")\n",
    "    \n",
    "    import matplotlib.pyplot as plt\n",
    "    \n",
    "    plt.plot(losses)\n",
    "    plt.title(\"Training Loss Over Epochs\")\n",
    "    plt.xlabel(\"Epoch\")\n",
    "    plt.ylabel(\"Loss\")\n",
    "    plt.grid(True)\n",
    "    plt.show()"
   ]
  },
  {
   "cell_type": "markdown",
   "id": "a9cd9bf9-e181-40e0-9300-5bbdcf6e8bad",
   "metadata": {},
   "source": [
    "---"
   ]
  },
  {
   "cell_type": "markdown",
   "id": "dbea3d7f-16b8-4220-997f-5ce19b284b97",
   "metadata": {},
   "source": [
    "### Evaluation Utility – `evalModel`\n",
    "\n",
    "Encapsulates the validation loop to compute MSE and RMSE on the hold-out set.\n",
    "\n",
    "#### Workflow\n",
    "1. Move the model to `device` and switch to evaluation mode (`model.eval()`).  \n",
    "2. Initialize `criterion = nn.MSELoss()` and `totalValLoss = 0.0`.  \n",
    "3. Disable gradient tracking and iterate over `valLoader`:  \n",
    "   - Transfer `user`, `beer`, and `score` to `device`.  \n",
    "   - Compute `predictions = model(user, beer)`.  \n",
    "   - Calculate `loss = criterion(predictions, score)` and accumulate `loss * batch_size`.  \n",
    "4. After the loop, compute:  \n",
    "   - `avgValLoss = totalValLoss / len(valDataset)`  \n",
    "   - `rmse = avgValLoss ** 0.5`  \n",
    "5. Print the results:  \n",
    "   - `Validation MSE: {avgValLoss:.4f}`  \n",
    "   - `Validation RMSE: {rmse:.4f}`  \n",
    "6. Return `avgValLoss` and `rmse` for downstream analysis.  \n"
   ]
  },
  {
   "cell_type": "code",
   "execution_count": 12,
   "id": "a0312334-838c-4acd-b1eb-c9cb8535c20b",
   "metadata": {},
   "outputs": [],
   "source": [
    "def evalModel(model):\n",
    "    model.to(device)\n",
    "    model.eval() \n",
    "    totalValLoss = 0.0\n",
    "    criterion = nn.MSELoss()\n",
    "    \n",
    "    with torch.no_grad():\n",
    "        for batch in valLoader:\n",
    "            user = batch['user'].to(device)\n",
    "            beer = batch['beer'].to(device)\n",
    "            rating = batch['score'].to(device)\n",
    "    \n",
    "            predictions = model(user, beer)\n",
    "            loss = criterion(predictions, rating)  # MSE loss\n",
    "            # Multiply by batch size to sum up total loss over the dataset\n",
    "            totalValLoss += loss.item() * rating.size(0)\n",
    "    \n",
    "    # Compute average MSE loss over the entire validation set\n",
    "    avgValLoss = totalValLoss / len(valDataset)\n",
    "    # RMSE is the square root of the MSE\n",
    "    rmse = avgValLoss ** 0.5\n",
    "    \n",
    "    print(f\"Validation MSE: {avgValLoss:.4f}\")\n",
    "    print(f\"Validation RMSE: {rmse:.4f}\")\n",
    "    return avgValLoss, rmse\n"
   ]
  },
  {
   "cell_type": "markdown",
   "id": "dd6a3d49-0db2-437c-834c-f7eb947338ab",
   "metadata": {},
   "source": [
    "---"
   ]
  },
  {
   "cell_type": "markdown",
   "id": "2e8d5deb-5273-4acc-a175-7632e6e6ccdb",
   "metadata": {},
   "source": [
    "### Model Training and Evaluation: Matrix Factorization\n",
    "\n",
    "The MF_Recommender model is a  implementation of matrix factorization:\n",
    "\n",
    "#### Observations:\n",
    "- Initial loss started at **0.3575**, dropping sharply to **0.0283** by epoch 3.  \n",
    "- Loss continued to decrease gradually, reaching **0.0078** at the final epoch.  \n",
    "- The training loss curve shows a steady downward trend, indicating effective learning without early plateau.  \n",
    "\n",
    "After training, the model was evaluated on the held-out validation set using the same MSE loss under `torch.no_grad()` to disable gradient computation.\n",
    "\n",
    "#### Metrics:\n",
    "- **Mean Squared Error (MSE)**: Average of squared differences between predicted and actual ratings.  \n",
    "- **Root Mean Squared Error (RMSE)**: Square root of MSE, for interpretability on the [0,1] scale.  \n",
    "\n",
    "#### Results:\n",
    "- **Validation MSE**: 0.0099  \n",
    "- **Validation RMSE**: 0.0994  \n",
    "\n",
    "These metrics demonstrate that the matrix factorization model generalizes well, achieving an average prediction error of 0.0994 on the normalized rating scale.  \n"
   ]
  },
  {
   "cell_type": "code",
   "execution_count": 14,
   "id": "26bbafb2-b21f-44be-91f1-bd45d791308b",
   "metadata": {},
   "outputs": [
    {
     "name": "stdout",
     "output_type": "stream",
     "text": [
      "Model: mf_model\n",
      "Epoch 1/30, Loss: 0.3575\n",
      "Epoch 2/30, Loss: 0.1082\n",
      "Epoch 3/30, Loss: 0.0283\n",
      "Epoch 4/30, Loss: 0.0142\n",
      "Epoch 5/30, Loss: 0.0118\n",
      "Epoch 6/30, Loss: 0.0107\n",
      "Epoch 7/30, Loss: 0.0101\n",
      "Epoch 8/30, Loss: 0.0098\n",
      "Epoch 9/30, Loss: 0.0096\n",
      "Epoch 10/30, Loss: 0.0094\n",
      "Epoch 11/30, Loss: 0.0093\n",
      "Epoch 12/30, Loss: 0.0092\n",
      "Epoch 13/30, Loss: 0.0091\n",
      "Epoch 14/30, Loss: 0.0090\n",
      "Epoch 15/30, Loss: 0.0089\n",
      "Epoch 16/30, Loss: 0.0088\n",
      "Epoch 17/30, Loss: 0.0087\n",
      "Epoch 18/30, Loss: 0.0086\n",
      "Epoch 19/30, Loss: 0.0086\n",
      "Epoch 20/30, Loss: 0.0085\n",
      "Epoch 21/30, Loss: 0.0084\n",
      "Epoch 22/30, Loss: 0.0083\n",
      "Epoch 23/30, Loss: 0.0082\n",
      "Epoch 24/30, Loss: 0.0082\n",
      "Epoch 25/30, Loss: 0.0081\n",
      "Epoch 26/30, Loss: 0.0080\n",
      "Epoch 27/30, Loss: 0.0080\n",
      "Epoch 28/30, Loss: 0.0079\n",
      "Epoch 29/30, Loss: 0.0079\n",
      "Epoch 30/30, Loss: 0.0078\n"
     ]
    },
    {
     "data": {
      "image/png": "[encoded data removed]",
      "text/plain": [
       "<Figure size 640x480 with 1 Axes>"
      ]
     },
     "metadata": {},
     "output_type": "display_data"
    },
    {
     "name": "stdout",
     "output_type": "stream",
     "text": [
      "Validation MSE: 0.0099\n",
      "Validation RMSE: 0.0994\n"
     ]
    },
    {
     "data": {
      "text/plain": [
       "(0.009884826537200605, 0.09942246495234669)"
      ]
     },
     "execution_count": 14,
     "metadata": {},
     "output_type": "execute_result"
    }
   ],
   "source": [
    "print(\"Model: mf_model\")\n",
    "trainModel(mf_model, lr=1e-4, weight_decay=1e-5, num_epochs=30)\n",
    "evalModel(mf_model)"
   ]
  },
  {
   "cell_type": "markdown",
   "id": "903e9295-4a03-4436-9371-900ed7a110b5",
   "metadata": {},
   "source": [
    "---"
   ]
  },
  {
   "cell_type": "markdown",
   "id": "fdd027db-9cf1-485f-ab95-bae47614b122",
   "metadata": {},
   "source": [
    "### Model Training and Evaluation: Nonlinear Matrix Factorization\n",
    "\n",
    "The NonLinear_MF_Recommender model enhances traditional matrix factorization by incorporating :\n",
    "\n",
    "A multi-layer perceptron (MLP) structure to model nonlinear interactions between user and beer embeddings.\n",
    "\n",
    "  \n",
    "#### Observations:\n",
    "- Loss decreased from **0.0893** in epoch 1 to **0.0082** by epoch 30.  \n",
    "- Convergence was smooth, with no signs of overfitting.  \n",
    "\n",
    "After training, the model was evaluated on the held-out validation set in inference mode (`torch.no_grad()`).\n",
    "\n",
    "#### Metrics:\n",
    "- **Validation MSE**: 0.0105 \n",
    "- **Validation RMSE**: 0.1026\n",
    "\n",
    "Compared to the linear MF baseline (MSE = 0.0100), the nonlinear model shows comparable performance, suggesting limited additional gain from the MLP branch on this dataset.  \n"
   ]
  },
  {
   "cell_type": "code",
   "execution_count": 15,
   "id": "86a0add8-45a4-4b8e-9b2d-ddc0612d2486",
   "metadata": {},
   "outputs": [
    {
     "name": "stdout",
     "output_type": "stream",
     "text": [
      "Model: nonlinear_mf_model\n",
      "Epoch 1/30, Loss: 0.0893\n",
      "Epoch 2/30, Loss: 0.0110\n",
      "Epoch 3/30, Loss: 0.0104\n",
      "Epoch 4/30, Loss: 0.0101\n",
      "Epoch 5/30, Loss: 0.0099\n",
      "Epoch 6/30, Loss: 0.0098\n",
      "Epoch 7/30, Loss: 0.0098\n",
      "Epoch 8/30, Loss: 0.0097\n",
      "Epoch 9/30, Loss: 0.0097\n",
      "Epoch 10/30, Loss: 0.0097\n",
      "Epoch 11/30, Loss: 0.0096\n",
      "Epoch 12/30, Loss: 0.0096\n",
      "Epoch 13/30, Loss: 0.0095\n",
      "Epoch 14/30, Loss: 0.0094\n",
      "Epoch 15/30, Loss: 0.0093\n",
      "Epoch 16/30, Loss: 0.0092\n",
      "Epoch 17/30, Loss: 0.0091\n",
      "Epoch 18/30, Loss: 0.0090\n",
      "Epoch 19/30, Loss: 0.0090\n",
      "Epoch 20/30, Loss: 0.0089\n",
      "Epoch 21/30, Loss: 0.0088\n",
      "Epoch 22/30, Loss: 0.0087\n",
      "Epoch 23/30, Loss: 0.0087\n",
      "Epoch 24/30, Loss: 0.0086\n",
      "Epoch 25/30, Loss: 0.0085\n",
      "Epoch 26/30, Loss: 0.0085\n",
      "Epoch 27/30, Loss: 0.0084\n",
      "Epoch 28/30, Loss: 0.0083\n",
      "Epoch 29/30, Loss: 0.0083\n",
      "Epoch 30/30, Loss: 0.0082\n"
     ]
    },
    {
     "data": {
      "image/png": "[encoded data removed]",
      "text/plain": [
       "<Figure size 640x480 with 1 Axes>"
      ]
     },
     "metadata": {},
     "output_type": "display_data"
    },
    {
     "name": "stdout",
     "output_type": "stream",
     "text": [
      "Validation MSE: 0.0105\n",
      "Validation RMSE: 0.1026\n"
     ]
    },
    {
     "data": {
      "text/plain": [
       "(0.010516583123636675, 0.10255039309352586)"
      ]
     },
     "execution_count": 15,
     "metadata": {},
     "output_type": "execute_result"
    }
   ],
   "source": [
    "print(\"Model: nonlinear_mf_model\")\n",
    "trainModel(nonlinear_mf_model,lr=1e-4, weight_decay=1e-5, num_epochs=30)\n",
    "evalModel(nonlinear_mf_model)"
   ]
  },
  {
   "cell_type": "markdown",
   "id": "ecaa2d67-a7fc-4111-ad14-2e6f84152105",
   "metadata": {},
   "source": [
    "---"
   ]
  },
  {
   "cell_type": "markdown",
   "id": "e245e556-a538-447b-ac21-d49530103f6a",
   "metadata": {},
   "source": [
    "### Model Training and Evaluation: Neural Matrix Factorization\n",
    "\n",
    "The **NeuMF_Recommender** integrates:\n",
    "- **Generalized Matrix Factorization (GMF)** and **MLP-based collaborative filtering**, \n",
    "- Combining both **latent interactions** and **learned non-linear patterns** for final rating prediction.\n",
    "\n",
    "#### Observations:\n",
    "- Loss dropped from **0.0805** in epoch 1 to **0.0170** by epoch 3, then plateaued through epoch 20.  \n",
    "- Fast convergence and stable training curve indicate effective learning without overfitting.  \n",
    "\n",
    "After training, the model was evaluated on the held-out validation set in inference mode (`torch.no_grad()`).\n",
    "\n",
    "#### Metrics:\n",
    "- **Validation MSE**: 0.0101 \n",
    "- **Validation RMSE**: 0.1006\n",
    "\n",
    "Compared to both the linear and nonlinear MF variants, NeuMF shows similar error, implying that the added complexity of fusing GMF and MLP branches did not translate into significant performance gains on this dataset.  \n"
   ]
  },
  {
   "cell_type": "code",
   "execution_count": 20,
   "id": "5bfc6233-d348-4383-bd4d-eea5ca17fec6",
   "metadata": {},
   "outputs": [
    {
     "name": "stdout",
     "output_type": "stream",
     "text": [
      "Model: neu_mf_model\n",
      "Epoch 1/30, Loss: 0.0805\n",
      "Epoch 2/30, Loss: 0.0185\n",
      "Epoch 3/30, Loss: 0.0165\n",
      "Epoch 4/30, Loss: 0.0146\n",
      "Epoch 5/30, Loss: 0.0129\n",
      "Epoch 6/30, Loss: 0.0117\n",
      "Epoch 7/30, Loss: 0.0109\n",
      "Epoch 8/30, Loss: 0.0104\n",
      "Epoch 9/30, Loss: 0.0101\n",
      "Epoch 10/30, Loss: 0.0098\n",
      "Epoch 11/30, Loss: 0.0096\n",
      "Epoch 12/30, Loss: 0.0095\n",
      "Epoch 13/30, Loss: 0.0094\n",
      "Epoch 14/30, Loss: 0.0094\n",
      "Epoch 15/30, Loss: 0.0093\n",
      "Epoch 16/30, Loss: 0.0093\n",
      "Epoch 17/30, Loss: 0.0093\n",
      "Epoch 18/30, Loss: 0.0092\n",
      "Epoch 19/30, Loss: 0.0092\n",
      "Epoch 20/30, Loss: 0.0092\n",
      "Epoch 21/30, Loss: 0.0091\n",
      "Epoch 22/30, Loss: 0.0091\n",
      "Epoch 23/30, Loss: 0.0091\n",
      "Epoch 24/30, Loss: 0.0090\n",
      "Epoch 25/30, Loss: 0.0090\n",
      "Epoch 26/30, Loss: 0.0090\n",
      "Epoch 27/30, Loss: 0.0090\n",
      "Epoch 28/30, Loss: 0.0089\n",
      "Epoch 29/30, Loss: 0.0089\n",
      "Epoch 30/30, Loss: 0.0088\n"
     ]
    },
    {
     "data": {
      "image/png": "[encoded data removed]",
      "text/plain": [
       "<Figure size 640x480 with 1 Axes>"
      ]
     },
     "metadata": {},
     "output_type": "display_data"
    },
    {
     "name": "stdout",
     "output_type": "stream",
     "text": [
      "Validation MSE: 0.0101\n",
      "Validation RMSE: 0.1006\n"
     ]
    },
    {
     "data": {
      "text/plain": [
       "(0.010116382100930472, 0.10058022718671136)"
      ]
     },
     "execution_count": 20,
     "metadata": {},
     "output_type": "execute_result"
    }
   ],
   "source": [
    "print(\"Model: neu_mf_model\")\n",
    "trainModel(neu_mf_model, lr=1e-4, weight_decay=1e-5, num_epochs=30)\n",
    "evalModel(neu_mf_model)"
   ]
  },
  {
   "cell_type": "markdown",
   "id": "ee0203bb-6032-4b6f-b308-fb6605d362a2",
   "metadata": {},
   "source": [
    "---"
   ]
  },
  {
   "cell_type": "markdown",
   "id": "9d2aa37b-847b-4a8b-9256-52ab84c78843",
   "metadata": {},
   "source": [
    "## Recommendation Utilities for Real vs Predicted Preferences\n",
    "\n",
    "This section establishes utility functions to interpret and evaluate the outputs of the trained collaborative filtering model, particularly for generating beer recommendations and validating them against real user preferences.\n",
    "\n",
    "---\n"
   ]
  },
  {
   "cell_type": "code",
   "execution_count": 21,
   "id": "f4c69f10-8c74-4fb4-8ffd-d644d903439a",
   "metadata": {},
   "outputs": [],
   "source": [
    "# Run this cell for necessary tility methods for Collaborative Filtering Model\n",
    "indexBeerDict = {index: beer for beer, index in beerIndexDict.items()}\n",
    "indexUserMap = {index: user for user, index in userIndexDict.items()}\n",
    "\n",
    "def topKRecommendedBeersForUser(model, userIndex, topK=10):\n",
    "\n",
    "    model.to(device)\n",
    "    model.eval()\n",
    "    allBeerIndices = torch.arange(len(beerIndexDict)).to(device)\n",
    "    userTensor = torch.tensor([userIndex] * len(beerIndexDict), dtype=torch.long).to(device)\n",
    "    with torch.no_grad():\n",
    "        predictedRatings = model(userTensor, allBeerIndices)\n",
    "    topRatings, topBeerIndices = torch.topk(predictedRatings, topK)\n",
    "    recommendedBeers = [indexBeerDict[index.item()] for index in topBeerIndices]\n",
    "    return recommendedBeers,topRatings\n",
    "\n",
    "beerDetails = df.groupby('beer_id').agg({\n",
    "    'name': 'first',\n",
    "    'state': 'first',\n",
    "    'country': 'first',\n",
    "    'style': 'first',\n",
    "    'availability': 'first',\n",
    "    'abv': 'mean',\n",
    "    'notes': 'first',\n",
    "    'look': 'mean',\n",
    "    'smell': 'mean',\n",
    "    'taste': 'mean',\n",
    "    'feel': 'mean',\n",
    "    'overall': 'mean',\n",
    "    'score': 'mean',\n",
    "    'name_brewery': 'first',\n",
    "    'city': 'first',\n",
    "    'notes_brewery': 'first',\n",
    "    'types': 'first'\n",
    "}).reset_index()\n",
    "\n",
    "def getBeerDetailsFromIds(beerIdList):\n",
    "    df_idx = beerDetails.set_index('beer_id')\n",
    "    df_out = df_idx.loc[beerIdList]\n",
    "    return df_out.reset_index()\n",
    "\n",
    "def getBeerDetailsFromIdsWithPredictedScore(beerIdList, predictedScores):\n",
    "    df_beerDetails = getBeerDetailsFromIds(beerIdList)[['name', 'style', 'abv', 'score']]\n",
    "    scores = predictedScores.detach().cpu().tolist()\n",
    "    df_beerDetails['predicted_user_score'] = scores\n",
    "    return df_beerDetails\n",
    "    \n",
    "def getActualTopKReviewedBeersForUser(username, topK=10):\n",
    "    userReviews = df[df['username'] == username]\n",
    "    return userReviews.sort_values(by='score', ascending=False).head(topK)\n",
    "\n",
    "def getUsername(userIndex):\n",
    "    username = indexUserMap.get(userIndex, \"Unknown User\")\n",
    "    print(f\"Username for user index {userIndex}: {username}\")\n",
    "    return username"
   ]
  },
  {
   "cell_type": "code",
   "execution_count": 23,
   "id": "88f48137-ee7a-4f2a-a0c2-d214469a9e66",
   "metadata": {},
   "outputs": [
    {
     "name": "stdout",
     "output_type": "stream",
     "text": [
      "Username for user index 111: jbaker67\n",
      "                                     name                    style   abv  \\\n",
      "185003                           Parabola   Russian Imperial Stout  12.7   \n",
      "482765  Bourbon County Brand Coffee Stout  American Imperial Stout  12.9   \n",
      "586086                    Pliny The Elder    American Imperial IPA   8.0   \n",
      "588621                         Temptation        American Wild Ale   7.5   \n",
      "511964                         Pseudo Sue  American Pale Ale (APA)   6.2   \n",
      "329277     KBS (Kentucky Breakfast Stout)  American Imperial Stout  12.3   \n",
      "539942        Cantillon Kriek 100% Lambic     Belgian Fruit Lambic   5.0   \n",
      "600619                       Heady Topper          New England IPA   8.0   \n",
      "612881                              Bomb!  American Imperial Stout  13.0   \n",
      "186130                             §ucaba       British Barleywine  12.5   \n",
      "\n",
      "         score  \n",
      "185003  0.9150  \n",
      "482765  0.9150  \n",
      "586086  0.9125  \n",
      "588621  0.9125  \n",
      "511964  0.9000  \n",
      "329277  0.8900  \n",
      "539942  0.8875  \n",
      "600619  0.8775  \n",
      "612881  0.8750  \n",
      "186130  0.8725  \n",
      "                             name                    style   abv    score  predicted_user_score\n",
      "                     Heady Topper          New England IPA  8.00 0.906973              0.901715\n",
      "                Pliny The Younger    American Imperial IPA 10.25 0.914736              0.899757\n",
      "   CBS (Canadian Breakfast Stout)  American Imperial Stout 11.70 0.902547              0.897806\n",
      "                  Pliny The Elder    American Imperial IPA  8.00 0.894939              0.889679\n",
      "   Trappist Westvleteren 12 (XII) Belgian Quadrupel (Quad) 10.20 0.902712              0.884930\n",
      "Bourbon County Brand Coffee Stout  American Imperial Stout 12.90 0.886392              0.876664\n",
      "                  Sip Of Sunshine    American Imperial IPA  8.00 0.882953              0.873845\n",
      "         Hunahpu's Imperial Stout  American Imperial Stout 11.00 0.873814              0.873106\n",
      "   Trappist Westvleteren 8 (VIII)           Belgian Dubbel  8.00 0.870593              0.872917\n",
      "   KBS (Kentucky Breakfast Stout)  American Imperial Stout 12.30 0.884183              0.872525\n"
     ]
    }
   ],
   "source": [
    "# For a given user index get the actual top K reviewed beers:\n",
    "userIndex = 111\n",
    "username = getUsername(userIndex)\n",
    "topK = 10\n",
    "print(getActualTopKReviewedBeersForUser(username, topK)[['name', 'style', 'abv', 'score']])\n",
    "\n",
    "recommended_beer_ids, predictedRatings = topKRecommendedBeersForUser(\n",
    "    neu_mf_model,\n",
    "    userIndex,\n",
    "    topK=topK\n",
    ")\n",
    "\n",
    "df_beerDetails = getBeerDetailsFromIdsWithPredictedScore(recommended_beer_ids, predictedRatings)\n",
    "print(df_beerDetails.to_string(index=False))"
   ]
  },
  {
   "cell_type": "markdown",
   "id": "a82ffaac-70e1-4eb5-9a02-38454b75b7ef",
   "metadata": {},
   "source": [
    "### 📌 Insights\n",
    "\n",
    "- **Preference Profile**: The selected user (`jbaker67`) consistently gives high ratings to strong, dark, and often Stout and IPAs. This highlights a preference for high-ABV, full-bodied, and complex beers.\n",
    "\n",
    "- **Consistency in Taste**: All top-rated beers fall into either the IPA, Quadrupel, or Imperial Stout categories, suggesting that taste preferences remain stable across styles that share richness, depth, and higher alcohol content.\n",
    "\n",
    "- **Metadata Utility**: The ability to aggregate and query detailed beer metadata enables clear interpretation of what the model is recommending and why. This provides transparency and supports explainability in the recommendation process.\n",
    "\n",
    "- **Validation Readiness**: These utilities allow for real-time comparison between model-generated recommendations and a user's historical top ratings. Such comparison is critical for iterative improvement of the recommender system.\n",
    "\n",
    "- **Future Direction**: Insights from user behavior and rating trends can be used to guide enhancements in hybrid models—for example, by integrating beer features like style and ABV directly into the model architecture for personalized embeddings.\n",
    "\n",
    "- **Model Explainability**: This framework bridges machine-generated predictions and human-readable outputs, an essential component for user trust and system transparency in real-world recommender applications.\n"
   ]
  },
  {
   "cell_type": "markdown",
   "id": "86461c3d-f99f-438f-9ac8-278084be291c",
   "metadata": {},
   "source": [
    "---"
   ]
  },
  {
   "cell_type": "markdown",
   "id": "39262842-0b5a-478e-9878-3d31db69c5d2",
   "metadata": {},
   "source": [
    "### Conclusion: Collaborative Filtering Model\n",
    "\n",
    "The initial collaborative filtering model, which uses only user and beer IDs along with learned embeddings and biases, demonstrated strong baseline performance in predicting beer ratings. The training process showed a consistent reduction in loss over 30 epochs, and the model achieved a low RMSE of **0.1006** on the validation set—indicative of high predictive accuracy.\n",
    "\n",
    "Key strengths of the model include:\n",
    "- **Effective personalization** through embedding layers for both users and beers.\n",
    "- **Bias incorporation** at user, item, and global levels to capture rating tendencies.\n",
    "- **Scalable architecture** suitable for large datasets.\n",
    "\n",
    "However, the model has several limitations:\n",
    "- It **does not leverage content-based features** such as beer style, ABV, or textual reviews, which could enhance recommendations especially for new or sparsely rated items.\n",
    "- **Cold-start users or items** (those with few or no ratings) may receive poor recommendations due to lack of interaction history.\n",
    "- The model lacks interpretability and explainability, making it harder to justify predictions to end users.\n",
    "\n",
    "These vanilla model provides a solid foundation for collaborative filtering. In the next phase, we aim to incorporate **beer content features** into the model architecture to create a hybrid recommender system that can deliver even more accurate and robust recommendations across a wider range of users and items.\n"
   ]
  },
  {
   "cell_type": "code",
   "execution_count": null,
   "id": "7d9250da-3774-4320-8f6d-eaf3aa8baa09",
   "metadata": {},
   "outputs": [],
   "source": []
  }
 ],
 "metadata": {
  "kernelspec": {
   "display_name": "Python 3 (ipykernel)",
   "language": "python",
   "name": "python3"
  },
  "language_info": {
   "codemirror_mode": {
    "name": "ipython",
    "version": 3
   },
   "file_extension": ".py",
   "mimetype": "text/x-python",
   "name": "python",
   "nbconvert_exporter": "python",
   "pygments_lexer": "ipython3",
   "version": "3.8.20"
  }
 },
 "nbformat": 4,
 "nbformat_minor": 5
}
